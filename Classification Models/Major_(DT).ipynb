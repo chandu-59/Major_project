{
 "cells": [
  {
   "cell_type": "code",
   "execution_count": 16,
   "id": "a0500f04",
   "metadata": {},
   "outputs": [],
   "source": [
    "import numpy as np\n",
    "import pandas as pd\n",
    "from sklearn.model_selection import train_test_split\n",
    "from sklearn.metrics import accuracy_score, f1_score, precision_score, classification_report, confusion_matrix\n",
    "from sklearn.preprocessing import LabelEncoder, StandardScaler\n",
    "from sklearn.ensemble import RandomForestClassifier\n",
    "import matplotlib.pyplot as plt\n",
    "import seaborn as sn"
   ]
  },
  {
   "cell_type": "code",
   "execution_count": 17,
   "id": "572f3a18",
   "metadata": {},
   "outputs": [],
   "source": [
    "df = pd.read_csv('final_dataset.csv')\n"
   ]
  },
  {
   "cell_type": "code",
   "execution_count": 18,
   "id": "0528cdd7",
   "metadata": {},
   "outputs": [
    {
     "name": "stdout",
     "output_type": "stream",
     "text": [
      "<class 'pandas.core.frame.DataFrame'>\n",
      "RangeIndex: 495109 entries, 0 to 495108\n",
      "Data columns (total 21 columns):\n",
      " #   Column                        Non-Null Count   Dtype  \n",
      "---  ------                        --------------   -----  \n",
      " 0   Unnamed: 0                    495109 non-null  int64  \n",
      " 1    Total Backward Packets       495109 non-null  float64\n",
      " 2    Total Length of Bwd Packets  495109 non-null  float64\n",
      " 3   Bwd Packet Length Max         495109 non-null  float64\n",
      " 4    Flow Packets/s               495109 non-null  float64\n",
      " 5    Bwd Packets/s                495109 non-null  float64\n",
      " 6    Packet Length Variance       495109 non-null  float64\n",
      " 7    PSH Flag Count               495109 non-null  float64\n",
      " 8    Down/Up Ratio                495109 non-null  float64\n",
      " 9    Subflow Bwd Packets          495109 non-null  float64\n",
      " 10   Subflow Bwd Bytes            495109 non-null  float64\n",
      " 11  Init_Win_bytes_forward        495109 non-null  float64\n",
      " 12   act_data_pkt_fwd             495109 non-null  float64\n",
      " 13   min_seg_size_forward         495109 non-null  float64\n",
      " 14   Flow Duration                495109 non-null  float64\n",
      " 15   Flow IAT Mean                495109 non-null  float64\n",
      " 16   Flow IAT Max                 495109 non-null  float64\n",
      " 17   Fwd IAT Mean                 495109 non-null  float64\n",
      " 18   Fwd IAT Max                  495109 non-null  float64\n",
      " 19   Idle Std                     495109 non-null  float64\n",
      " 20   Label                        495109 non-null  object \n",
      "dtypes: float64(19), int64(1), object(1)\n",
      "memory usage: 79.3+ MB\n"
     ]
    }
   ],
   "source": [
    "df.info()"
   ]
  },
  {
   "cell_type": "code",
   "execution_count": 19,
   "id": "0f47c77d",
   "metadata": {},
   "outputs": [],
   "source": [
    "from sklearn.model_selection import train_test_split\n",
    "X=df.iloc[:,:-1].values    # predictor attributes\n",
    "y=df.iloc[:,-1].values     # target attributes\n",
    "X_train, X_test, y_train, y_test = train_test_split(X, y, test_size=0.30)"
   ]
  },
  {
   "cell_type": "code",
   "execution_count": 20,
   "id": "3caf23c7",
   "metadata": {},
   "outputs": [],
   "source": [
    "from sklearn.tree import DecisionTreeClassifier"
   ]
  },
  {
   "cell_type": "code",
   "execution_count": 21,
   "id": "06c07fad",
   "metadata": {},
   "outputs": [],
   "source": [
    "dtree = DecisionTreeClassifier(criterion='gini',max_depth=None)"
   ]
  },
  {
   "cell_type": "code",
   "execution_count": 22,
   "id": "81068d4b",
   "metadata": {},
   "outputs": [
    {
     "data": {
      "text/plain": [
       "DecisionTreeClassifier()"
      ]
     },
     "execution_count": 22,
     "metadata": {},
     "output_type": "execute_result"
    }
   ],
   "source": [
    "dtree.fit(X_train,y_train)"
   ]
  },
  {
   "cell_type": "markdown",
   "id": "6f1793dd",
   "metadata": {},
   "source": [
    "# Testing accuracy"
   ]
  },
  {
   "cell_type": "code",
   "execution_count": 23,
   "id": "62cf8f2c",
   "metadata": {},
   "outputs": [],
   "source": [
    "predictions = dtree.predict(X_test)"
   ]
  },
  {
   "cell_type": "code",
   "execution_count": 24,
   "id": "da030c47",
   "metadata": {},
   "outputs": [
    {
     "name": "stdout",
     "output_type": "stream",
     "text": [
      "              precision    recall  f1-score   support\n",
      "\n",
      "      BENIGN       1.00      1.00      1.00     74529\n",
      "        DDoS       1.00      1.00      1.00     45307\n",
      " FTP-Patator       1.00      1.00      1.00      2450\n",
      "    PortScan       1.00      1.00      1.00     23879\n",
      " SSH-Patator       1.00      1.00      1.00      1736\n",
      "  Web Attack       0.93      0.95      0.94       632\n",
      "\n",
      "    accuracy                           1.00    148533\n",
      "   macro avg       0.99      0.99      0.99    148533\n",
      "weighted avg       1.00      1.00      1.00    148533\n",
      "\n"
     ]
    }
   ],
   "source": [
    "from sklearn.metrics import classification_report,confusion_matrix\n",
    "print(classification_report(y_test,predictions))"
   ]
  },
  {
   "cell_type": "code",
   "execution_count": 25,
   "id": "eb7e4d27",
   "metadata": {
    "scrolled": true
   },
   "outputs": [
    {
     "name": "stdout",
     "output_type": "stream",
     "text": [
      "[[74394    72     8     5     7    43]\n",
      " [   46 45256     0     2     0     3]\n",
      " [    1     0  2449     0     0     0]\n",
      " [    2    10     0 23865     0     2]\n",
      " [    1     1     0     0  1734     0]\n",
      " [   33     1     0     0     0   598]]\n",
      "Accuracy of prediction: 0.806\n"
     ]
    }
   ],
   "source": [
    "cm=confusion_matrix(y_test,predictions)\n",
    "print(cm)\n",
    "print (\"Accuracy of prediction:\",round((cm[0,0]+cm[1,1])/cm.sum(),3))"
   ]
  },
  {
   "cell_type": "markdown",
   "id": "f4def626",
   "metadata": {},
   "source": [
    "# Training accuracy"
   ]
  },
  {
   "cell_type": "code",
   "execution_count": 31,
   "id": "b9feb41e",
   "metadata": {},
   "outputs": [],
   "source": [
    "predictions = dtree.predict(X_train)"
   ]
  },
  {
   "cell_type": "code",
   "execution_count": 37,
   "id": "51257ae3",
   "metadata": {
    "scrolled": true
   },
   "outputs": [
    {
     "name": "stdout",
     "output_type": "stream",
     "text": [
      "              precision    recall  f1-score   support\n",
      "\n",
      "      BENIGN       1.00      1.00      1.00    173205\n",
      "        DDoS       1.00      1.00      1.00    106588\n",
      " FTP-Patator       1.00      1.00      1.00      5488\n",
      "    PortScan       1.00      1.00      1.00     55586\n",
      " SSH-Patator       1.00      1.00      1.00      4161\n",
      "  Web Attack       1.00      1.00      1.00      1548\n",
      "\n",
      "    accuracy                           1.00    346576\n",
      "   macro avg       1.00      1.00      1.00    346576\n",
      "weighted avg       1.00      1.00      1.00    346576\n",
      "\n"
     ]
    }
   ],
   "source": [
    "print(classification_report(y_train,predictions))"
   ]
  },
  {
   "cell_type": "code",
   "execution_count": 33,
   "id": "a6224fc9",
   "metadata": {},
   "outputs": [
    {
     "name": "stdout",
     "output_type": "stream",
     "text": [
      "[[173205      0      0      0      0      0]\n",
      " [     0 106588      0      0      0      0]\n",
      " [     0      0   5488      0      0      0]\n",
      " [     0      0      0  55586      0      0]\n",
      " [     0      0      0      0   4161      0]\n",
      " [     0      0      0      0      0   1548]]\n",
      "Accuracy of prediction: 0.807\n"
     ]
    }
   ],
   "source": [
    "cm=confusion_matrix(y_train,predictions)\n",
    "print(cm)\n",
    "print (\"Accuracy of prediction:\",round((cm[0,0]+cm[1,1])/cm.sum(),3))"
   ]
  },
  {
   "cell_type": "markdown",
   "id": "fcce1168",
   "metadata": {},
   "source": [
    "\n",
    "# Heat Map"
   ]
  },
  {
   "cell_type": "code",
   "execution_count": 34,
   "id": "017e1f70",
   "metadata": {},
   "outputs": [],
   "source": [
    "labels = ['BENIGN', 'DDoS', 'FTP-Patator', 'PortScan', 'SSH-Patator', 'Web Attack']"
   ]
  },
  {
   "cell_type": "code",
   "execution_count": 36,
   "id": "11a5a947",
   "metadata": {},
   "outputs": [
    {
     "data": {
      "text/plain": [
       "Text(69.0, 0.5, 'Actual Values')"
      ]
     },
     "execution_count": 36,
     "metadata": {},
     "output_type": "execute_result"
    },
    {
     "data": {
      "image/png": "[encoded data removed]",
      "text/plain": [
       "<Figure size 720x504 with 2 Axes>"
      ]
     },
     "metadata": {
      "needs_background": "light"
     },
     "output_type": "display_data"
    }
   ],
   "source": [
    "plt.figure(figsize=(10,7))\n",
    "sn.heatmap(cm,annot=True,cmap=\"Blues\",xticklabels=labels,yticklabels=labels)\n",
    "plt.xlabel('Predicted Values')\n",
    "plt.ylabel('Actual Values')"
   ]
  },
  {
   "cell_type": "code",
   "execution_count": null,
   "id": "b9f4b5d7",
   "metadata": {},
   "outputs": [],
   "source": []
  }
 ],
 "metadata": {
  "kernelspec": {
   "display_name": "Python 3 (ipykernel)",
   "language": "python",
   "name": "python3"
  },
  "language_info": {
   "codemirror_mode": {
    "name": "ipython",
    "version": 3
   },
   "file_extension": ".py",
   "mimetype": "text/x-python",
   "name": "python",
   "nbconvert_exporter": "python",
   "pygments_lexer": "ipython3",
   "version": "3.10.0"
  }
 },
 "nbformat": 4,
 "nbformat_minor": 5
}
