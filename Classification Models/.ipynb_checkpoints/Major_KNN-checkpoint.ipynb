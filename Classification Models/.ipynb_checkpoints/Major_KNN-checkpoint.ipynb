{
 "cells": [
  {
   "cell_type": "markdown",
   "metadata": {
    "colab_type": "text",
    "id": "MowcShHcGXyr"
   },
   "source": [
    "#KNN Classifier"
   ]
  },
  {
   "cell_type": "code",
   "execution_count": 25,
   "metadata": {
    "colab": {},
    "colab_type": "code",
    "id": "1cm_Xdsyzx_b"
   },
   "outputs": [],
   "source": [
    "import numpy as np\n",
    "import pandas as pd\n",
    "from sklearn.model_selection import train_test_split\n",
    "from sklearn.metrics import accuracy_score, f1_score, precision_score, classification_report, confusion_matrix\n",
    "from sklearn.preprocessing import LabelEncoder, StandardScaler\n",
    "from sklearn.ensemble import RandomForestClassifier\n",
    "import matplotlib.pyplot as plt\n",
    "import seaborn as sn"
   ]
  },
  {
   "cell_type": "code",
   "execution_count": 3,
   "metadata": {
    "colab": {},
    "colab_type": "code",
    "id": "YBwfLRB7z-CF"
   },
   "outputs": [],
   "source": [
    "#import the dataset\n",
    "dataset=pd.read_csv('final_dataset.csv')\n",
    "X=dataset.iloc[:,:-1].values    # predictor attributes\n",
    "y=dataset.iloc[:,-1].values     # target attributes"
   ]
  },
  {
   "cell_type": "code",
   "execution_count": 4,
   "metadata": {
    "colab": {},
    "colab_type": "code",
    "id": "SnOSY8-_3ina"
   },
   "outputs": [
    {
     "data": {
      "text/html": [
       "<div>\n",
       "<style scoped>\n",
       "    .dataframe tbody tr th:only-of-type {\n",
       "        vertical-align: middle;\n",
       "    }\n",
       "\n",
       "    .dataframe tbody tr th {\n",
       "        vertical-align: top;\n",
       "    }\n",
       "\n",
       "    .dataframe thead th {\n",
       "        text-align: right;\n",
       "    }\n",
       "</style>\n",
       "<table border=\"1\" class=\"dataframe\">\n",
       "  <thead>\n",
       "    <tr style=\"text-align: right;\">\n",
       "      <th></th>\n",
       "      <th>Unnamed: 0</th>\n",
       "      <th>Total Backward Packets</th>\n",
       "      <th>Total Length of Bwd Packets</th>\n",
       "      <th>Bwd Packet Length Max</th>\n",
       "      <th>Flow Packets/s</th>\n",
       "      <th>Bwd Packets/s</th>\n",
       "      <th>Packet Length Variance</th>\n",
       "      <th>PSH Flag Count</th>\n",
       "      <th>Down/Up Ratio</th>\n",
       "      <th>Subflow Bwd Packets</th>\n",
       "      <th>...</th>\n",
       "      <th>Init_Win_bytes_forward</th>\n",
       "      <th>act_data_pkt_fwd</th>\n",
       "      <th>min_seg_size_forward</th>\n",
       "      <th>Flow Duration</th>\n",
       "      <th>Flow IAT Mean</th>\n",
       "      <th>Flow IAT Max</th>\n",
       "      <th>Fwd IAT Mean</th>\n",
       "      <th>Fwd IAT Max</th>\n",
       "      <th>Idle Std</th>\n",
       "      <th>Label</th>\n",
       "    </tr>\n",
       "  </thead>\n",
       "  <tbody>\n",
       "    <tr>\n",
       "      <th>0</th>\n",
       "      <td>0</td>\n",
       "      <td>10.0</td>\n",
       "      <td>68.0</td>\n",
       "      <td>20.0</td>\n",
       "      <td>0.210025</td>\n",
       "      <td>0.123544</td>\n",
       "      <td>2.770409e+06</td>\n",
       "      <td>0.0</td>\n",
       "      <td>1.0</td>\n",
       "      <td>10.0</td>\n",
       "      <td>...</td>\n",
       "      <td>229.0</td>\n",
       "      <td>5.0</td>\n",
       "      <td>20.0</td>\n",
       "      <td>80942880.0</td>\n",
       "      <td>5058930.00</td>\n",
       "      <td>73600000.0</td>\n",
       "      <td>13500000.0</td>\n",
       "      <td>80300000.0</td>\n",
       "      <td>47300000.0</td>\n",
       "      <td>BENIGN</td>\n",
       "    </tr>\n",
       "    <tr>\n",
       "      <th>1</th>\n",
       "      <td>1</td>\n",
       "      <td>1.0</td>\n",
       "      <td>6.0</td>\n",
       "      <td>6.0</td>\n",
       "      <td>153846.160000</td>\n",
       "      <td>76923.080000</td>\n",
       "      <td>5.333334e+00</td>\n",
       "      <td>1.0</td>\n",
       "      <td>1.0</td>\n",
       "      <td>1.0</td>\n",
       "      <td>...</td>\n",
       "      <td>1024.0</td>\n",
       "      <td>0.0</td>\n",
       "      <td>24.0</td>\n",
       "      <td>13.0</td>\n",
       "      <td>13.00</td>\n",
       "      <td>13.0</td>\n",
       "      <td>0.0</td>\n",
       "      <td>0.0</td>\n",
       "      <td>0.0</td>\n",
       "      <td>PortScan</td>\n",
       "    </tr>\n",
       "    <tr>\n",
       "      <th>2</th>\n",
       "      <td>2</td>\n",
       "      <td>9.0</td>\n",
       "      <td>62.0</td>\n",
       "      <td>20.0</td>\n",
       "      <td>0.211247</td>\n",
       "      <td>0.126748</td>\n",
       "      <td>3.662699e+06</td>\n",
       "      <td>0.0</td>\n",
       "      <td>1.0</td>\n",
       "      <td>9.0</td>\n",
       "      <td>...</td>\n",
       "      <td>229.0</td>\n",
       "      <td>4.0</td>\n",
       "      <td>20.0</td>\n",
       "      <td>71007070.0</td>\n",
       "      <td>5071934.00</td>\n",
       "      <td>66900000.0</td>\n",
       "      <td>14200000.0</td>\n",
       "      <td>70600000.0</td>\n",
       "      <td>0.0</td>\n",
       "      <td>BENIGN</td>\n",
       "    </tr>\n",
       "    <tr>\n",
       "      <th>3</th>\n",
       "      <td>3</td>\n",
       "      <td>7.0</td>\n",
       "      <td>11595.0</td>\n",
       "      <td>5792.0</td>\n",
       "      <td>67.655790</td>\n",
       "      <td>47.359055</td>\n",
       "      <td>3.327892e+06</td>\n",
       "      <td>1.0</td>\n",
       "      <td>2.0</td>\n",
       "      <td>7.0</td>\n",
       "      <td>...</td>\n",
       "      <td>29200.0</td>\n",
       "      <td>1.0</td>\n",
       "      <td>32.0</td>\n",
       "      <td>147807.0</td>\n",
       "      <td>16423.00</td>\n",
       "      <td>135274.0</td>\n",
       "      <td>6010.0</td>\n",
       "      <td>11001.0</td>\n",
       "      <td>0.0</td>\n",
       "      <td>DDoS</td>\n",
       "    </tr>\n",
       "    <tr>\n",
       "      <th>4</th>\n",
       "      <td>4</td>\n",
       "      <td>1.0</td>\n",
       "      <td>6.0</td>\n",
       "      <td>6.0</td>\n",
       "      <td>35087.720000</td>\n",
       "      <td>17543.860000</td>\n",
       "      <td>5.333334e+00</td>\n",
       "      <td>1.0</td>\n",
       "      <td>1.0</td>\n",
       "      <td>1.0</td>\n",
       "      <td>...</td>\n",
       "      <td>1024.0</td>\n",
       "      <td>0.0</td>\n",
       "      <td>24.0</td>\n",
       "      <td>57.0</td>\n",
       "      <td>57.00</td>\n",
       "      <td>57.0</td>\n",
       "      <td>0.0</td>\n",
       "      <td>0.0</td>\n",
       "      <td>0.0</td>\n",
       "      <td>PortScan</td>\n",
       "    </tr>\n",
       "    <tr>\n",
       "      <th>5</th>\n",
       "      <td>5</td>\n",
       "      <td>7.0</td>\n",
       "      <td>11595.0</td>\n",
       "      <td>7240.0</td>\n",
       "      <td>0.160093</td>\n",
       "      <td>0.070041</td>\n",
       "      <td>3.150539e+06</td>\n",
       "      <td>0.0</td>\n",
       "      <td>0.0</td>\n",
       "      <td>7.0</td>\n",
       "      <td>...</td>\n",
       "      <td>274.0</td>\n",
       "      <td>1.0</td>\n",
       "      <td>32.0</td>\n",
       "      <td>99941730.0</td>\n",
       "      <td>6662782.00</td>\n",
       "      <td>99800000.0</td>\n",
       "      <td>12500000.0</td>\n",
       "      <td>99800000.0</td>\n",
       "      <td>0.0</td>\n",
       "      <td>DDoS</td>\n",
       "    </tr>\n",
       "    <tr>\n",
       "      <th>6</th>\n",
       "      <td>6</td>\n",
       "      <td>0.0</td>\n",
       "      <td>0.0</td>\n",
       "      <td>0.0</td>\n",
       "      <td>666666.700000</td>\n",
       "      <td>0.000000</td>\n",
       "      <td>6.533334e+01</td>\n",
       "      <td>0.0</td>\n",
       "      <td>0.0</td>\n",
       "      <td>0.0</td>\n",
       "      <td>...</td>\n",
       "      <td>229.0</td>\n",
       "      <td>0.0</td>\n",
       "      <td>32.0</td>\n",
       "      <td>3.0</td>\n",
       "      <td>3.00</td>\n",
       "      <td>3.0</td>\n",
       "      <td>3.0</td>\n",
       "      <td>3.0</td>\n",
       "      <td>0.0</td>\n",
       "      <td>FTP-Patator</td>\n",
       "    </tr>\n",
       "    <tr>\n",
       "      <th>7</th>\n",
       "      <td>7</td>\n",
       "      <td>4.0</td>\n",
       "      <td>11632.0</td>\n",
       "      <td>11632.0</td>\n",
       "      <td>1.075708</td>\n",
       "      <td>0.358569</td>\n",
       "      <td>1.040000e+07</td>\n",
       "      <td>1.0</td>\n",
       "      <td>0.0</td>\n",
       "      <td>4.0</td>\n",
       "      <td>...</td>\n",
       "      <td>29200.0</td>\n",
       "      <td>1.0</td>\n",
       "      <td>32.0</td>\n",
       "      <td>11155440.0</td>\n",
       "      <td>1014130.94</td>\n",
       "      <td>6149866.0</td>\n",
       "      <td>879717.0</td>\n",
       "      <td>6156234.0</td>\n",
       "      <td>0.0</td>\n",
       "      <td>DDoS</td>\n",
       "    </tr>\n",
       "    <tr>\n",
       "      <th>8</th>\n",
       "      <td>8</td>\n",
       "      <td>6.0</td>\n",
       "      <td>11595.0</td>\n",
       "      <td>4344.0</td>\n",
       "      <td>0.153080</td>\n",
       "      <td>0.070652</td>\n",
       "      <td>2.131709e+06</td>\n",
       "      <td>0.0</td>\n",
       "      <td>0.0</td>\n",
       "      <td>6.0</td>\n",
       "      <td>...</td>\n",
       "      <td>274.0</td>\n",
       "      <td>2.0</td>\n",
       "      <td>20.0</td>\n",
       "      <td>84923110.0</td>\n",
       "      <td>7076926.00</td>\n",
       "      <td>84800000.0</td>\n",
       "      <td>14100000.0</td>\n",
       "      <td>84800000.0</td>\n",
       "      <td>0.0</td>\n",
       "      <td>DDoS</td>\n",
       "    </tr>\n",
       "    <tr>\n",
       "      <th>9</th>\n",
       "      <td>9</td>\n",
       "      <td>1.0</td>\n",
       "      <td>6.0</td>\n",
       "      <td>6.0</td>\n",
       "      <td>45454.547000</td>\n",
       "      <td>22727.273000</td>\n",
       "      <td>0.000000e+00</td>\n",
       "      <td>0.0</td>\n",
       "      <td>1.0</td>\n",
       "      <td>1.0</td>\n",
       "      <td>...</td>\n",
       "      <td>58.0</td>\n",
       "      <td>0.0</td>\n",
       "      <td>20.0</td>\n",
       "      <td>44.0</td>\n",
       "      <td>44.00</td>\n",
       "      <td>44.0</td>\n",
       "      <td>0.0</td>\n",
       "      <td>0.0</td>\n",
       "      <td>0.0</td>\n",
       "      <td>BENIGN</td>\n",
       "    </tr>\n",
       "  </tbody>\n",
       "</table>\n",
       "<p>10 rows × 21 columns</p>\n",
       "</div>"
      ],
      "text/plain": [
       "   Unnamed: 0   Total Backward Packets   Total Length of Bwd Packets  \\\n",
       "0           0                     10.0                          68.0   \n",
       "1           1                      1.0                           6.0   \n",
       "2           2                      9.0                          62.0   \n",
       "3           3                      7.0                       11595.0   \n",
       "4           4                      1.0                           6.0   \n",
       "5           5                      7.0                       11595.0   \n",
       "6           6                      0.0                           0.0   \n",
       "7           7                      4.0                       11632.0   \n",
       "8           8                      6.0                       11595.0   \n",
       "9           9                      1.0                           6.0   \n",
       "\n",
       "   Bwd Packet Length Max   Flow Packets/s   Bwd Packets/s  \\\n",
       "0                   20.0         0.210025        0.123544   \n",
       "1                    6.0    153846.160000    76923.080000   \n",
       "2                   20.0         0.211247        0.126748   \n",
       "3                 5792.0        67.655790       47.359055   \n",
       "4                    6.0     35087.720000    17543.860000   \n",
       "5                 7240.0         0.160093        0.070041   \n",
       "6                    0.0    666666.700000        0.000000   \n",
       "7                11632.0         1.075708        0.358569   \n",
       "8                 4344.0         0.153080        0.070652   \n",
       "9                    6.0     45454.547000    22727.273000   \n",
       "\n",
       "    Packet Length Variance   PSH Flag Count   Down/Up Ratio  \\\n",
       "0             2.770409e+06              0.0             1.0   \n",
       "1             5.333334e+00              1.0             1.0   \n",
       "2             3.662699e+06              0.0             1.0   \n",
       "3             3.327892e+06              1.0             2.0   \n",
       "4             5.333334e+00              1.0             1.0   \n",
       "5             3.150539e+06              0.0             0.0   \n",
       "6             6.533334e+01              0.0             0.0   \n",
       "7             1.040000e+07              1.0             0.0   \n",
       "8             2.131709e+06              0.0             0.0   \n",
       "9             0.000000e+00              0.0             1.0   \n",
       "\n",
       "    Subflow Bwd Packets  ...  Init_Win_bytes_forward   act_data_pkt_fwd  \\\n",
       "0                  10.0  ...                   229.0                5.0   \n",
       "1                   1.0  ...                  1024.0                0.0   \n",
       "2                   9.0  ...                   229.0                4.0   \n",
       "3                   7.0  ...                 29200.0                1.0   \n",
       "4                   1.0  ...                  1024.0                0.0   \n",
       "5                   7.0  ...                   274.0                1.0   \n",
       "6                   0.0  ...                   229.0                0.0   \n",
       "7                   4.0  ...                 29200.0                1.0   \n",
       "8                   6.0  ...                   274.0                2.0   \n",
       "9                   1.0  ...                    58.0                0.0   \n",
       "\n",
       "    min_seg_size_forward   Flow Duration   Flow IAT Mean   Flow IAT Max  \\\n",
       "0                   20.0      80942880.0      5058930.00     73600000.0   \n",
       "1                   24.0            13.0           13.00           13.0   \n",
       "2                   20.0      71007070.0      5071934.00     66900000.0   \n",
       "3                   32.0        147807.0        16423.00       135274.0   \n",
       "4                   24.0            57.0           57.00           57.0   \n",
       "5                   32.0      99941730.0      6662782.00     99800000.0   \n",
       "6                   32.0             3.0            3.00            3.0   \n",
       "7                   32.0      11155440.0      1014130.94      6149866.0   \n",
       "8                   20.0      84923110.0      7076926.00     84800000.0   \n",
       "9                   20.0            44.0           44.00           44.0   \n",
       "\n",
       "    Fwd IAT Mean   Fwd IAT Max    Idle Std        Label  \n",
       "0     13500000.0    80300000.0  47300000.0       BENIGN  \n",
       "1            0.0           0.0         0.0     PortScan  \n",
       "2     14200000.0    70600000.0         0.0       BENIGN  \n",
       "3         6010.0       11001.0         0.0         DDoS  \n",
       "4            0.0           0.0         0.0     PortScan  \n",
       "5     12500000.0    99800000.0         0.0         DDoS  \n",
       "6            3.0           3.0         0.0  FTP-Patator  \n",
       "7       879717.0     6156234.0         0.0         DDoS  \n",
       "8     14100000.0    84800000.0         0.0         DDoS  \n",
       "9            0.0           0.0         0.0       BENIGN  \n",
       "\n",
       "[10 rows x 21 columns]"
      ]
     },
     "execution_count": 4,
     "metadata": {},
     "output_type": "execute_result"
    }
   ],
   "source": [
    "dataset.head(10)"
   ]
  },
  {
   "cell_type": "code",
   "execution_count": 5,
   "metadata": {
    "colab": {},
    "colab_type": "code",
    "id": "Jq4JYYjA0KzE"
   },
   "outputs": [
    {
     "data": {
      "text/plain": [
       "(array([[0.0000000e+00, 1.0000000e+01, 6.8000000e+01, ..., 1.3500000e+07,\n",
       "         8.0300000e+07, 4.7300000e+07],\n",
       "        [1.0000000e+00, 1.0000000e+00, 6.0000000e+00, ..., 0.0000000e+00,\n",
       "         0.0000000e+00, 0.0000000e+00],\n",
       "        [2.0000000e+00, 9.0000000e+00, 6.2000000e+01, ..., 1.4200000e+07,\n",
       "         7.0600000e+07, 0.0000000e+00],\n",
       "        ...,\n",
       "        [4.9510600e+05, 7.0000000e+00, 1.1595000e+04, ..., 1.9600000e+07,\n",
       "         9.7800000e+07, 0.0000000e+00],\n",
       "        [4.9510700e+05, 1.0000000e+00, 6.0000000e+00, ..., 0.0000000e+00,\n",
       "         0.0000000e+00, 0.0000000e+00],\n",
       "        [4.9510800e+05, 0.0000000e+00, 0.0000000e+00, ..., 1.0711828e+06,\n",
       "         5.3549070e+06, 0.0000000e+00]]),\n",
       " array(['BENIGN', 'PortScan', 'BENIGN', ..., 'DDoS', 'PortScan', 'DDoS'],\n",
       "       dtype=object))"
      ]
     },
     "execution_count": 5,
     "metadata": {},
     "output_type": "execute_result"
    }
   ],
   "source": [
    "X, y\n"
   ]
  },
  {
   "cell_type": "code",
   "execution_count": 6,
   "metadata": {
    "colab": {},
    "colab_type": "code",
    "id": "vp8NAaOc0MT-"
   },
   "outputs": [],
   "source": [
    "# Encoding the categorical data\n",
    "from sklearn.preprocessing import LabelEncoder\n",
    "Labelencoder_y= LabelEncoder()\n",
    "y= Labelencoder_y.fit_transform(y)"
   ]
  },
  {
   "cell_type": "code",
   "execution_count": 7,
   "metadata": {},
   "outputs": [
    {
     "name": "stdout",
     "output_type": "stream",
     "text": [
      "[0 3 0 ... 1 3 1]\n"
     ]
    }
   ],
   "source": [
    "print(y)"
   ]
  },
  {
   "cell_type": "code",
   "execution_count": 8,
   "metadata": {
    "colab": {},
    "colab_type": "code",
    "id": "MzCVdGk30O46"
   },
   "outputs": [],
   "source": [
    "# split the dataset into test set and train set\n",
    "from sklearn.model_selection import train_test_split\n",
    "X_train, X_test, y_train, y_test = train_test_split(X,y, test_size=0.2, random_state=0)"
   ]
  },
  {
   "cell_type": "code",
   "execution_count": 9,
   "metadata": {},
   "outputs": [
    {
     "data": {
      "text/plain": [
       "array([[1.74534e+05, 1.00000e+00, 0.00000e+00, ..., 0.00000e+00,\n",
       "        0.00000e+00, 0.00000e+00],\n",
       "       [2.75872e+05, 1.00000e+00, 0.00000e+00, ..., 0.00000e+00,\n",
       "        0.00000e+00, 0.00000e+00],\n",
       "       [8.10140e+04, 0.00000e+00, 0.00000e+00, ..., 5.00000e+01,\n",
       "        5.00000e+01, 0.00000e+00],\n",
       "       ...,\n",
       "       [1.39372e+05, 1.00000e+00, 6.00000e+00, ..., 0.00000e+00,\n",
       "        0.00000e+00, 0.00000e+00],\n",
       "       [1.96377e+05, 2.00000e+00, 2.04000e+02, ..., 1.00000e+00,\n",
       "        1.00000e+00, 0.00000e+00],\n",
       "       [2.21222e+05, 0.00000e+00, 0.00000e+00, ..., 3.00000e+00,\n",
       "        3.00000e+00, 0.00000e+00]])"
      ]
     },
     "execution_count": 9,
     "metadata": {},
     "output_type": "execute_result"
    }
   ],
   "source": [
    "X_test"
   ]
  },
  {
   "cell_type": "code",
   "execution_count": 10,
   "metadata": {
    "colab": {},
    "colab_type": "code",
    "id": "lc9n3hwT0RrA"
   },
   "outputs": [],
   "source": [
    "# Feature Scaling\n",
    "from sklearn.preprocessing import StandardScaler\n",
    "sc_X= StandardScaler()\n",
    "X_train=sc_X.fit_transform(X_train)\n",
    "X_test=sc_X.transform(X_test)"
   ]
  },
  {
   "cell_type": "code",
   "execution_count": 11,
   "metadata": {},
   "outputs": [
    {
     "data": {
      "text/plain": [
       "array([[-0.51152695, -0.01131785, -0.00777519, ..., -0.37342685,\n",
       "        -0.47316271, -0.14361621],\n",
       "       [ 0.19729558, -0.01131785, -0.00777519, ..., -0.37342685,\n",
       "        -0.47316271, -0.14361621],\n",
       "       [-1.16566541, -0.01357758, -0.00777519, ..., -0.37342142,\n",
       "        -0.47316117, -0.14361621],\n",
       "       ...,\n",
       "       [-0.75747238, -0.01131785, -0.00776899, ..., -0.37342685,\n",
       "        -0.47316271, -0.14361621],\n",
       "       [-0.35874309, -0.00905812, -0.00756429, ..., -0.37342674,\n",
       "        -0.47316268, -0.14361621],\n",
       "       [-0.18496133, -0.01357758, -0.00777519, ..., -0.37342653,\n",
       "        -0.47316262, -0.14361621]])"
      ]
     },
     "execution_count": 11,
     "metadata": {},
     "output_type": "execute_result"
    }
   ],
   "source": [
    "X_test"
   ]
  },
  {
   "cell_type": "code",
   "execution_count": 12,
   "metadata": {
    "colab": {},
    "colab_type": "code",
    "id": "FGNVL3U30T6f"
   },
   "outputs": [],
   "source": [
    "# importing the kNN model from scikit learn\n",
    "from sklearn.neighbors import KNeighborsClassifier"
   ]
  },
  {
   "cell_type": "code",
   "execution_count": 19,
   "metadata": {
    "colab": {},
    "colab_type": "code",
    "id": "gsJCGL7v0YwX"
   },
   "outputs": [],
   "source": [
    "# init the model\n",
    "\n",
    "knn= KNeighborsClassifier(n_neighbors=7)  \n"
   ]
  },
  {
   "cell_type": "code",
   "execution_count": 20,
   "metadata": {
    "colab": {},
    "colab_type": "code",
    "id": "xr3RxeXK0buR"
   },
   "outputs": [
    {
     "data": {
      "text/plain": [
       "KNeighborsClassifier(n_neighbors=7)"
      ]
     },
     "execution_count": 20,
     "metadata": {},
     "output_type": "execute_result"
    }
   ],
   "source": [
    "#fit the kNN model\n",
    "knn.fit(X_train,y_train)"
   ]
  },
  {
   "cell_type": "markdown",
   "metadata": {},
   "source": [
    "# Testing Accuracy"
   ]
  },
  {
   "cell_type": "code",
   "execution_count": 21,
   "metadata": {
    "colab": {},
    "colab_type": "code",
    "id": "43Q_uI-q0ftV"
   },
   "outputs": [
    {
     "data": {
      "text/plain": [
       "array([4, 0, 1, ..., 0, 0, 0])"
      ]
     },
     "execution_count": 21,
     "metadata": {},
     "output_type": "execute_result"
    }
   ],
   "source": [
    "# Making the Prediction\n",
    "y_pred = knn.predict(X_test)\n",
    "y_pred "
   ]
  },
  {
   "cell_type": "code",
   "execution_count": 22,
   "metadata": {
    "colab": {},
    "colab_type": "code",
    "id": "4sKWZ2fg0htT"
   },
   "outputs": [
    {
     "data": {
      "text/plain": [
       "array([[47553,  1552,    94,    25,   200,   162],\n",
       "       [  484, 29976,    41,    11,    11,     1],\n",
       "       [   35,   278,  1296,     0,     5,     0],\n",
       "       [   21,    19,     0, 15657,     0,     0],\n",
       "       [  291,     4,     2,     0,   894,     0],\n",
       "       [  108,     3,     0,     0,     9,   290]], dtype=int64)"
      ]
     },
     "execution_count": 22,
     "metadata": {},
     "output_type": "execute_result"
    }
   ],
   "source": [
    "# Confusion matrix\n",
    "from sklearn.metrics import confusion_matrix\n",
    "cm = confusion_matrix(y_test, y_pred)\n",
    "cm"
   ]
  },
  {
   "cell_type": "code",
   "execution_count": 23,
   "metadata": {
    "colab": {},
    "colab_type": "code",
    "id": "xdoMTCj80kF4"
   },
   "outputs": [
    {
     "data": {
      "text/plain": [
       "0.9661085415362243"
      ]
     },
     "execution_count": 23,
     "metadata": {},
     "output_type": "execute_result"
    }
   ],
   "source": [
    "# accuracy score\n",
    "from sklearn.metrics import accuracy_score\n",
    "ac= accuracy_score(y_test, y_pred)\n",
    "ac"
   ]
  },
  {
   "cell_type": "code",
   "execution_count": 26,
   "metadata": {},
   "outputs": [
    {
     "name": "stdout",
     "output_type": "stream",
     "text": [
      "Accuracy:  96.61\n",
      "F1:  96.60\n",
      "Precision:  96.65\n"
     ]
    }
   ],
   "source": [
    "acc = accuracy_score(y_test, y_pred)\n",
    "f1 = f1_score(y_test, y_pred, average= 'weighted')\n",
    "precision = precision_score(y_test, y_pred, average='weighted')\n",
    "\n",
    "print('Accuracy: ', \"%.2f\" % (acc*100))\n",
    "print('F1: ', \"%.2f\" % (f1*100))\n",
    "print(\"Precision: \", \"%.2f\" % (precision*100))"
   ]
  },
  {
   "cell_type": "markdown",
   "metadata": {},
   "source": [
    "# Training Accuracy"
   ]
  },
  {
   "cell_type": "code",
   "execution_count": 28,
   "metadata": {},
   "outputs": [],
   "source": [
    "predictions = knn.predict(X_train)"
   ]
  },
  {
   "cell_type": "code",
   "execution_count": 30,
   "metadata": {},
   "outputs": [
    {
     "data": {
      "text/plain": [
       "array([[191865,   4781,    342,     59,    544,    557],\n",
       "       [  1519, 119689,    111,     20,     30,      2],\n",
       "       [   118,   1005,   5189,      0,     11,      1],\n",
       "       [    72,     48,      0,  63646,      0,      2],\n",
       "       [   902,      5,     12,      0,   3787,      0],\n",
       "       [   325,     10,      0,      0,     31,   1404]], dtype=int64)"
      ]
     },
     "execution_count": 30,
     "metadata": {},
     "output_type": "execute_result"
    }
   ],
   "source": [
    "cm = confusion_matrix(y_train, predictions)\n",
    "cm"
   ]
  },
  {
   "cell_type": "code",
   "execution_count": 29,
   "metadata": {},
   "outputs": [
    {
     "data": {
      "text/plain": [
       "0.9734729996187707"
      ]
     },
     "execution_count": 29,
     "metadata": {},
     "output_type": "execute_result"
    }
   ],
   "source": [
    "ac= accuracy_score(y_train, predictions)\n",
    "ac"
   ]
  },
  {
   "cell_type": "code",
   "execution_count": 32,
   "metadata": {},
   "outputs": [
    {
     "name": "stdout",
     "output_type": "stream",
     "text": [
      "Accuracy:  97.35\n",
      "F1:  97.34\n",
      "Precision:  97.37\n"
     ]
    }
   ],
   "source": [
    "acc = accuracy_score(y_train, predictions)\n",
    "f1 = f1_score(y_train, predictions, average= 'weighted')\n",
    "precision = precision_score(y_train, predictions, average='weighted')\n",
    "\n",
    "print('Accuracy: ', \"%.2f\" % (acc*100))\n",
    "print('F1: ', \"%.2f\" % (f1*100))\n",
    "print(\"Precision: \", \"%.2f\" % (precision*100))"
   ]
  },
  {
   "cell_type": "markdown",
   "metadata": {},
   "source": [
    "# Heat Map"
   ]
  },
  {
   "cell_type": "code",
   "execution_count": 35,
   "metadata": {},
   "outputs": [
    {
     "data": {
      "text/plain": [
       "Text(69.0, 0.5, 'Actual Values')"
      ]
     },
     "execution_count": 35,
     "metadata": {},
     "output_type": "execute_result"
    },
    {
     "data": {
      "image/png": "[encoded data removed]",
      "text/plain": [
       "<Figure size 720x504 with 2 Axes>"
      ]
     },
     "metadata": {
      "needs_background": "light"
     },
     "output_type": "display_data"
    }
   ],
   "source": [
    "cm=confusion_matrix(y_train,predictions)\n",
    "labels = ['BENIGN', 'DDoS', 'FTP-Patator', 'PortScan', 'SSH-Patator', 'Web Attack']\n",
    "plt.figure(figsize=(10,7))\n",
    "sn.heatmap(cm,annot=True,cmap=\"Blues\",xticklabels=labels,yticklabels=labels)\n",
    "plt.xlabel('Predicted Values')\n",
    "plt.ylabel('Actual Values')"
   ]
  },
  {
   "cell_type": "code",
   "execution_count": null,
   "metadata": {},
   "outputs": [],
   "source": []
  }
 ],
 "metadata": {
  "colab": {
   "collapsed_sections": [],
   "name": "KNN.ipynb",
   "provenance": [],
   "toc_visible": true
  },
  "kernelspec": {
   "display_name": "Python 3",
   "language": "python",
   "name": "python3"
  },
  "language_info": {
   "codemirror_mode": {
    "name": "ipython",
    "version": 3
   },
   "file_extension": ".py",
   "mimetype": "text/x-python",
   "name": "python",
   "nbconvert_exporter": "python",
   "pygments_lexer": "ipython3",
   "version": "3.8.8"
  }
 },
 "nbformat": 4,
 "nbformat_minor": 1
}
