{
 "cells": [
  {
   "cell_type": "markdown",
   "id": "ef62bda4",
   "metadata": {},
   "source": [
    "# Random Forest Model"
   ]
  },
  {
   "cell_type": "code",
   "execution_count": 53,
   "id": "c3e20d3d",
   "metadata": {},
   "outputs": [],
   "source": [
    "import numpy as np\n",
    "import pandas as pd\n",
    "from sklearn.model_selection import train_test_split\n",
    "from sklearn.metrics import accuracy_score, f1_score, precision_score, classification_report, confusion_matrix\n",
    "from sklearn.preprocessing import LabelEncoder, StandardScaler\n",
    "from sklearn.ensemble import RandomForestClassifier\n",
    "import matplotlib.pyplot as plt\n",
    "import seaborn as sn"
   ]
  },
  {
   "cell_type": "code",
   "execution_count": 3,
   "id": "770e4ff4",
   "metadata": {},
   "outputs": [
    {
     "data": {
      "text/plain": [
       "(495109, 21)"
      ]
     },
     "execution_count": 3,
     "metadata": {},
     "output_type": "execute_result"
    }
   ],
   "source": [
    "df = pd.read_csv(\"final_dataset.csv\")\n",
    "df.shape"
   ]
  },
  {
   "cell_type": "code",
   "execution_count": 4,
   "id": "36f941e1",
   "metadata": {},
   "outputs": [
    {
     "data": {
      "text/html": [
       "<div>\n",
       "<style scoped>\n",
       "    .dataframe tbody tr th:only-of-type {\n",
       "        vertical-align: middle;\n",
       "    }\n",
       "\n",
       "    .dataframe tbody tr th {\n",
       "        vertical-align: top;\n",
       "    }\n",
       "\n",
       "    .dataframe thead th {\n",
       "        text-align: right;\n",
       "    }\n",
       "</style>\n",
       "<table border=\"1\" class=\"dataframe\">\n",
       "  <thead>\n",
       "    <tr style=\"text-align: right;\">\n",
       "      <th></th>\n",
       "      <th>Unnamed: 0</th>\n",
       "      <th>Total Backward Packets</th>\n",
       "      <th>Total Length of Bwd Packets</th>\n",
       "      <th>Bwd Packet Length Max</th>\n",
       "      <th>Flow Packets/s</th>\n",
       "      <th>Bwd Packets/s</th>\n",
       "      <th>Packet Length Variance</th>\n",
       "      <th>PSH Flag Count</th>\n",
       "      <th>Down/Up Ratio</th>\n",
       "      <th>Subflow Bwd Packets</th>\n",
       "      <th>...</th>\n",
       "      <th>Init_Win_bytes_forward</th>\n",
       "      <th>act_data_pkt_fwd</th>\n",
       "      <th>min_seg_size_forward</th>\n",
       "      <th>Flow Duration</th>\n",
       "      <th>Flow IAT Mean</th>\n",
       "      <th>Flow IAT Max</th>\n",
       "      <th>Fwd IAT Mean</th>\n",
       "      <th>Fwd IAT Max</th>\n",
       "      <th>Idle Std</th>\n",
       "      <th>Label</th>\n",
       "    </tr>\n",
       "  </thead>\n",
       "  <tbody>\n",
       "    <tr>\n",
       "      <th>0</th>\n",
       "      <td>0</td>\n",
       "      <td>10.0</td>\n",
       "      <td>68.0</td>\n",
       "      <td>20.0</td>\n",
       "      <td>0.210025</td>\n",
       "      <td>0.123544</td>\n",
       "      <td>2.770409e+06</td>\n",
       "      <td>0.0</td>\n",
       "      <td>1.0</td>\n",
       "      <td>10.0</td>\n",
       "      <td>...</td>\n",
       "      <td>229.0</td>\n",
       "      <td>5.0</td>\n",
       "      <td>20.0</td>\n",
       "      <td>80942880.0</td>\n",
       "      <td>5058930.0</td>\n",
       "      <td>73600000.0</td>\n",
       "      <td>13500000.0</td>\n",
       "      <td>80300000.0</td>\n",
       "      <td>47300000.0</td>\n",
       "      <td>BENIGN</td>\n",
       "    </tr>\n",
       "    <tr>\n",
       "      <th>1</th>\n",
       "      <td>1</td>\n",
       "      <td>1.0</td>\n",
       "      <td>6.0</td>\n",
       "      <td>6.0</td>\n",
       "      <td>153846.160000</td>\n",
       "      <td>76923.080000</td>\n",
       "      <td>5.333334e+00</td>\n",
       "      <td>1.0</td>\n",
       "      <td>1.0</td>\n",
       "      <td>1.0</td>\n",
       "      <td>...</td>\n",
       "      <td>1024.0</td>\n",
       "      <td>0.0</td>\n",
       "      <td>24.0</td>\n",
       "      <td>13.0</td>\n",
       "      <td>13.0</td>\n",
       "      <td>13.0</td>\n",
       "      <td>0.0</td>\n",
       "      <td>0.0</td>\n",
       "      <td>0.0</td>\n",
       "      <td>PortScan</td>\n",
       "    </tr>\n",
       "    <tr>\n",
       "      <th>2</th>\n",
       "      <td>2</td>\n",
       "      <td>9.0</td>\n",
       "      <td>62.0</td>\n",
       "      <td>20.0</td>\n",
       "      <td>0.211247</td>\n",
       "      <td>0.126748</td>\n",
       "      <td>3.662699e+06</td>\n",
       "      <td>0.0</td>\n",
       "      <td>1.0</td>\n",
       "      <td>9.0</td>\n",
       "      <td>...</td>\n",
       "      <td>229.0</td>\n",
       "      <td>4.0</td>\n",
       "      <td>20.0</td>\n",
       "      <td>71007070.0</td>\n",
       "      <td>5071934.0</td>\n",
       "      <td>66900000.0</td>\n",
       "      <td>14200000.0</td>\n",
       "      <td>70600000.0</td>\n",
       "      <td>0.0</td>\n",
       "      <td>BENIGN</td>\n",
       "    </tr>\n",
       "    <tr>\n",
       "      <th>3</th>\n",
       "      <td>3</td>\n",
       "      <td>7.0</td>\n",
       "      <td>11595.0</td>\n",
       "      <td>5792.0</td>\n",
       "      <td>67.655790</td>\n",
       "      <td>47.359055</td>\n",
       "      <td>3.327892e+06</td>\n",
       "      <td>1.0</td>\n",
       "      <td>2.0</td>\n",
       "      <td>7.0</td>\n",
       "      <td>...</td>\n",
       "      <td>29200.0</td>\n",
       "      <td>1.0</td>\n",
       "      <td>32.0</td>\n",
       "      <td>147807.0</td>\n",
       "      <td>16423.0</td>\n",
       "      <td>135274.0</td>\n",
       "      <td>6010.0</td>\n",
       "      <td>11001.0</td>\n",
       "      <td>0.0</td>\n",
       "      <td>DDoS</td>\n",
       "    </tr>\n",
       "    <tr>\n",
       "      <th>4</th>\n",
       "      <td>4</td>\n",
       "      <td>1.0</td>\n",
       "      <td>6.0</td>\n",
       "      <td>6.0</td>\n",
       "      <td>35087.720000</td>\n",
       "      <td>17543.860000</td>\n",
       "      <td>5.333334e+00</td>\n",
       "      <td>1.0</td>\n",
       "      <td>1.0</td>\n",
       "      <td>1.0</td>\n",
       "      <td>...</td>\n",
       "      <td>1024.0</td>\n",
       "      <td>0.0</td>\n",
       "      <td>24.0</td>\n",
       "      <td>57.0</td>\n",
       "      <td>57.0</td>\n",
       "      <td>57.0</td>\n",
       "      <td>0.0</td>\n",
       "      <td>0.0</td>\n",
       "      <td>0.0</td>\n",
       "      <td>PortScan</td>\n",
       "    </tr>\n",
       "  </tbody>\n",
       "</table>\n",
       "<p>5 rows × 21 columns</p>\n",
       "</div>"
      ],
      "text/plain": [
       "   Unnamed: 0   Total Backward Packets   Total Length of Bwd Packets  \\\n",
       "0           0                     10.0                          68.0   \n",
       "1           1                      1.0                           6.0   \n",
       "2           2                      9.0                          62.0   \n",
       "3           3                      7.0                       11595.0   \n",
       "4           4                      1.0                           6.0   \n",
       "\n",
       "   Bwd Packet Length Max   Flow Packets/s   Bwd Packets/s  \\\n",
       "0                   20.0         0.210025        0.123544   \n",
       "1                    6.0    153846.160000    76923.080000   \n",
       "2                   20.0         0.211247        0.126748   \n",
       "3                 5792.0        67.655790       47.359055   \n",
       "4                    6.0     35087.720000    17543.860000   \n",
       "\n",
       "    Packet Length Variance   PSH Flag Count   Down/Up Ratio  \\\n",
       "0             2.770409e+06              0.0             1.0   \n",
       "1             5.333334e+00              1.0             1.0   \n",
       "2             3.662699e+06              0.0             1.0   \n",
       "3             3.327892e+06              1.0             2.0   \n",
       "4             5.333334e+00              1.0             1.0   \n",
       "\n",
       "    Subflow Bwd Packets  ...  Init_Win_bytes_forward   act_data_pkt_fwd  \\\n",
       "0                  10.0  ...                   229.0                5.0   \n",
       "1                   1.0  ...                  1024.0                0.0   \n",
       "2                   9.0  ...                   229.0                4.0   \n",
       "3                   7.0  ...                 29200.0                1.0   \n",
       "4                   1.0  ...                  1024.0                0.0   \n",
       "\n",
       "    min_seg_size_forward   Flow Duration   Flow IAT Mean   Flow IAT Max  \\\n",
       "0                   20.0      80942880.0       5058930.0     73600000.0   \n",
       "1                   24.0            13.0            13.0           13.0   \n",
       "2                   20.0      71007070.0       5071934.0     66900000.0   \n",
       "3                   32.0        147807.0         16423.0       135274.0   \n",
       "4                   24.0            57.0            57.0           57.0   \n",
       "\n",
       "    Fwd IAT Mean   Fwd IAT Max    Idle Std     Label  \n",
       "0     13500000.0    80300000.0  47300000.0    BENIGN  \n",
       "1            0.0           0.0         0.0  PortScan  \n",
       "2     14200000.0    70600000.0         0.0    BENIGN  \n",
       "3         6010.0       11001.0         0.0      DDoS  \n",
       "4            0.0           0.0         0.0  PortScan  \n",
       "\n",
       "[5 rows x 21 columns]"
      ]
     },
     "execution_count": 4,
     "metadata": {},
     "output_type": "execute_result"
    }
   ],
   "source": [
    "df.head()"
   ]
  },
  {
   "cell_type": "code",
   "execution_count": 5,
   "id": "864914d2",
   "metadata": {},
   "outputs": [],
   "source": [
    "df = df.drop(\"Unnamed: 0\", axis=1)"
   ]
  },
  {
   "cell_type": "code",
   "execution_count": 50,
   "id": "f39e3302",
   "metadata": {},
   "outputs": [
    {
     "data": {
      "image/png": "[encoded data removed]",
      "text/plain": [
       "<Figure size 1080x432 with 1 Axes>"
      ]
     },
     "metadata": {
      "needs_background": "light"
     },
     "output_type": "display_data"
    }
   ],
   "source": [
    "# Data\n",
    "data = {'BENIGN': 247755, 'DDoS': 152275, 'PortScan': 79465, 'FTP-Patator': 7938, 'SSH-Patator': 5897, 'Web Attack': 2180}\n",
    "\n",
    "# Creating plot\n",
    "fig = plt.figure(figsize=(15, 6))\n",
    "plt.bar(data.keys(), data.values(), color='purple')\n",
    "\n",
    "# Add titles and labels\n",
    "plt.title(\"Bar Graph for Network Traffic Types\")\n",
    "plt.xlabel(\"Traffic Type\")\n",
    "plt.ylabel(\"Count / Frequency\")\n",
    "\n",
    "# Rotate x-axis labels for better readability\n",
    "plt.xticks(rotation=45, ha='right')\n",
    "\n",
    "# Display plot\n",
    "plt.show()"
   ]
  },
  {
   "cell_type": "markdown",
   "id": "75a8e8f7",
   "metadata": {},
   "source": [
    "### Taking the values of X and Y values"
   ]
  },
  {
   "cell_type": "code",
   "execution_count": 6,
   "id": "bd68eab8",
   "metadata": {},
   "outputs": [
    {
     "data": {
      "text/html": [
       "<div>\n",
       "<style scoped>\n",
       "    .dataframe tbody tr th:only-of-type {\n",
       "        vertical-align: middle;\n",
       "    }\n",
       "\n",
       "    .dataframe tbody tr th {\n",
       "        vertical-align: top;\n",
       "    }\n",
       "\n",
       "    .dataframe thead th {\n",
       "        text-align: right;\n",
       "    }\n",
       "</style>\n",
       "<table border=\"1\" class=\"dataframe\">\n",
       "  <thead>\n",
       "    <tr style=\"text-align: right;\">\n",
       "      <th></th>\n",
       "      <th>Total Backward Packets</th>\n",
       "      <th>Total Length of Bwd Packets</th>\n",
       "      <th>Bwd Packet Length Max</th>\n",
       "      <th>Flow Packets/s</th>\n",
       "      <th>Bwd Packets/s</th>\n",
       "      <th>Packet Length Variance</th>\n",
       "      <th>PSH Flag Count</th>\n",
       "      <th>Down/Up Ratio</th>\n",
       "      <th>Subflow Bwd Packets</th>\n",
       "      <th>Subflow Bwd Bytes</th>\n",
       "      <th>Init_Win_bytes_forward</th>\n",
       "      <th>act_data_pkt_fwd</th>\n",
       "      <th>min_seg_size_forward</th>\n",
       "      <th>Flow Duration</th>\n",
       "      <th>Flow IAT Mean</th>\n",
       "      <th>Flow IAT Max</th>\n",
       "      <th>Fwd IAT Mean</th>\n",
       "      <th>Fwd IAT Max</th>\n",
       "      <th>Idle Std</th>\n",
       "    </tr>\n",
       "  </thead>\n",
       "  <tbody>\n",
       "    <tr>\n",
       "      <th>0</th>\n",
       "      <td>10.0</td>\n",
       "      <td>68.0</td>\n",
       "      <td>20.0</td>\n",
       "      <td>0.210025</td>\n",
       "      <td>0.123544</td>\n",
       "      <td>2.770409e+06</td>\n",
       "      <td>0.0</td>\n",
       "      <td>1.0</td>\n",
       "      <td>10.0</td>\n",
       "      <td>68.0</td>\n",
       "      <td>229.0</td>\n",
       "      <td>5.0</td>\n",
       "      <td>20.0</td>\n",
       "      <td>80942880.0</td>\n",
       "      <td>5058930.0</td>\n",
       "      <td>73600000.0</td>\n",
       "      <td>13500000.0</td>\n",
       "      <td>80300000.0</td>\n",
       "      <td>4.730000e+07</td>\n",
       "    </tr>\n",
       "    <tr>\n",
       "      <th>1</th>\n",
       "      <td>1.0</td>\n",
       "      <td>6.0</td>\n",
       "      <td>6.0</td>\n",
       "      <td>153846.160000</td>\n",
       "      <td>76923.080000</td>\n",
       "      <td>5.333334e+00</td>\n",
       "      <td>1.0</td>\n",
       "      <td>1.0</td>\n",
       "      <td>1.0</td>\n",
       "      <td>6.0</td>\n",
       "      <td>1024.0</td>\n",
       "      <td>0.0</td>\n",
       "      <td>24.0</td>\n",
       "      <td>13.0</td>\n",
       "      <td>13.0</td>\n",
       "      <td>13.0</td>\n",
       "      <td>0.0</td>\n",
       "      <td>0.0</td>\n",
       "      <td>0.000000e+00</td>\n",
       "    </tr>\n",
       "    <tr>\n",
       "      <th>2</th>\n",
       "      <td>9.0</td>\n",
       "      <td>62.0</td>\n",
       "      <td>20.0</td>\n",
       "      <td>0.211247</td>\n",
       "      <td>0.126748</td>\n",
       "      <td>3.662699e+06</td>\n",
       "      <td>0.0</td>\n",
       "      <td>1.0</td>\n",
       "      <td>9.0</td>\n",
       "      <td>62.0</td>\n",
       "      <td>229.0</td>\n",
       "      <td>4.0</td>\n",
       "      <td>20.0</td>\n",
       "      <td>71007070.0</td>\n",
       "      <td>5071934.0</td>\n",
       "      <td>66900000.0</td>\n",
       "      <td>14200000.0</td>\n",
       "      <td>70600000.0</td>\n",
       "      <td>0.000000e+00</td>\n",
       "    </tr>\n",
       "    <tr>\n",
       "      <th>3</th>\n",
       "      <td>7.0</td>\n",
       "      <td>11595.0</td>\n",
       "      <td>5792.0</td>\n",
       "      <td>67.655790</td>\n",
       "      <td>47.359055</td>\n",
       "      <td>3.327892e+06</td>\n",
       "      <td>1.0</td>\n",
       "      <td>2.0</td>\n",
       "      <td>7.0</td>\n",
       "      <td>11595.0</td>\n",
       "      <td>29200.0</td>\n",
       "      <td>1.0</td>\n",
       "      <td>32.0</td>\n",
       "      <td>147807.0</td>\n",
       "      <td>16423.0</td>\n",
       "      <td>135274.0</td>\n",
       "      <td>6010.0</td>\n",
       "      <td>11001.0</td>\n",
       "      <td>0.000000e+00</td>\n",
       "    </tr>\n",
       "    <tr>\n",
       "      <th>4</th>\n",
       "      <td>1.0</td>\n",
       "      <td>6.0</td>\n",
       "      <td>6.0</td>\n",
       "      <td>35087.720000</td>\n",
       "      <td>17543.860000</td>\n",
       "      <td>5.333334e+00</td>\n",
       "      <td>1.0</td>\n",
       "      <td>1.0</td>\n",
       "      <td>1.0</td>\n",
       "      <td>6.0</td>\n",
       "      <td>1024.0</td>\n",
       "      <td>0.0</td>\n",
       "      <td>24.0</td>\n",
       "      <td>57.0</td>\n",
       "      <td>57.0</td>\n",
       "      <td>57.0</td>\n",
       "      <td>0.0</td>\n",
       "      <td>0.0</td>\n",
       "      <td>0.000000e+00</td>\n",
       "    </tr>\n",
       "    <tr>\n",
       "      <th>...</th>\n",
       "      <td>...</td>\n",
       "      <td>...</td>\n",
       "      <td>...</td>\n",
       "      <td>...</td>\n",
       "      <td>...</td>\n",
       "      <td>...</td>\n",
       "      <td>...</td>\n",
       "      <td>...</td>\n",
       "      <td>...</td>\n",
       "      <td>...</td>\n",
       "      <td>...</td>\n",
       "      <td>...</td>\n",
       "      <td>...</td>\n",
       "      <td>...</td>\n",
       "      <td>...</td>\n",
       "      <td>...</td>\n",
       "      <td>...</td>\n",
       "      <td>...</td>\n",
       "      <td>...</td>\n",
       "    </tr>\n",
       "    <tr>\n",
       "      <th>495104</th>\n",
       "      <td>1.0</td>\n",
       "      <td>6.0</td>\n",
       "      <td>6.0</td>\n",
       "      <td>46511.630000</td>\n",
       "      <td>23255.814000</td>\n",
       "      <td>1.200000e+01</td>\n",
       "      <td>1.0</td>\n",
       "      <td>1.0</td>\n",
       "      <td>1.0</td>\n",
       "      <td>6.0</td>\n",
       "      <td>29200.0</td>\n",
       "      <td>0.0</td>\n",
       "      <td>40.0</td>\n",
       "      <td>43.0</td>\n",
       "      <td>43.0</td>\n",
       "      <td>43.0</td>\n",
       "      <td>0.0</td>\n",
       "      <td>0.0</td>\n",
       "      <td>0.000000e+00</td>\n",
       "    </tr>\n",
       "    <tr>\n",
       "      <th>495105</th>\n",
       "      <td>20.0</td>\n",
       "      <td>5130.0</td>\n",
       "      <td>1418.0</td>\n",
       "      <td>0.371079</td>\n",
       "      <td>0.172595</td>\n",
       "      <td>1.453902e+05</td>\n",
       "      <td>1.0</td>\n",
       "      <td>0.0</td>\n",
       "      <td>20.0</td>\n",
       "      <td>5130.0</td>\n",
       "      <td>29200.0</td>\n",
       "      <td>5.0</td>\n",
       "      <td>32.0</td>\n",
       "      <td>115878344.0</td>\n",
       "      <td>2759008.2</td>\n",
       "      <td>10000000.0</td>\n",
       "      <td>5267197.5</td>\n",
       "      <td>10100000.0</td>\n",
       "      <td>4.626007e+03</td>\n",
       "    </tr>\n",
       "    <tr>\n",
       "      <th>495106</th>\n",
       "      <td>7.0</td>\n",
       "      <td>11595.0</td>\n",
       "      <td>4344.0</td>\n",
       "      <td>0.132676</td>\n",
       "      <td>0.071441</td>\n",
       "      <td>1.811930e+06</td>\n",
       "      <td>0.0</td>\n",
       "      <td>1.0</td>\n",
       "      <td>7.0</td>\n",
       "      <td>11595.0</td>\n",
       "      <td>251.0</td>\n",
       "      <td>1.0</td>\n",
       "      <td>32.0</td>\n",
       "      <td>97982880.0</td>\n",
       "      <td>8165240.0</td>\n",
       "      <td>97800000.0</td>\n",
       "      <td>19600000.0</td>\n",
       "      <td>97800000.0</td>\n",
       "      <td>0.000000e+00</td>\n",
       "    </tr>\n",
       "    <tr>\n",
       "      <th>495107</th>\n",
       "      <td>1.0</td>\n",
       "      <td>6.0</td>\n",
       "      <td>6.0</td>\n",
       "      <td>31746.031000</td>\n",
       "      <td>15873.016000</td>\n",
       "      <td>5.333334e+00</td>\n",
       "      <td>1.0</td>\n",
       "      <td>1.0</td>\n",
       "      <td>1.0</td>\n",
       "      <td>6.0</td>\n",
       "      <td>1024.0</td>\n",
       "      <td>0.0</td>\n",
       "      <td>24.0</td>\n",
       "      <td>63.0</td>\n",
       "      <td>63.0</td>\n",
       "      <td>63.0</td>\n",
       "      <td>0.0</td>\n",
       "      <td>0.0</td>\n",
       "      <td>0.000000e+00</td>\n",
       "    </tr>\n",
       "    <tr>\n",
       "      <th>495108</th>\n",
       "      <td>0.0</td>\n",
       "      <td>0.0</td>\n",
       "      <td>0.0</td>\n",
       "      <td>1.120257</td>\n",
       "      <td>0.000000</td>\n",
       "      <td>0.000000e+00</td>\n",
       "      <td>0.0</td>\n",
       "      <td>0.0</td>\n",
       "      <td>0.0</td>\n",
       "      <td>0.0</td>\n",
       "      <td>256.0</td>\n",
       "      <td>5.0</td>\n",
       "      <td>20.0</td>\n",
       "      <td>5355914.0</td>\n",
       "      <td>1071182.8</td>\n",
       "      <td>5354907.0</td>\n",
       "      <td>1071182.8</td>\n",
       "      <td>5354907.0</td>\n",
       "      <td>0.000000e+00</td>\n",
       "    </tr>\n",
       "  </tbody>\n",
       "</table>\n",
       "<p>495109 rows × 19 columns</p>\n",
       "</div>"
      ],
      "text/plain": [
       "         Total Backward Packets   Total Length of Bwd Packets  \\\n",
       "0                          10.0                          68.0   \n",
       "1                           1.0                           6.0   \n",
       "2                           9.0                          62.0   \n",
       "3                           7.0                       11595.0   \n",
       "4                           1.0                           6.0   \n",
       "...                         ...                           ...   \n",
       "495104                      1.0                           6.0   \n",
       "495105                     20.0                        5130.0   \n",
       "495106                      7.0                       11595.0   \n",
       "495107                      1.0                           6.0   \n",
       "495108                      0.0                           0.0   \n",
       "\n",
       "        Bwd Packet Length Max   Flow Packets/s   Bwd Packets/s  \\\n",
       "0                        20.0         0.210025        0.123544   \n",
       "1                         6.0    153846.160000    76923.080000   \n",
       "2                        20.0         0.211247        0.126748   \n",
       "3                      5792.0        67.655790       47.359055   \n",
       "4                         6.0     35087.720000    17543.860000   \n",
       "...                       ...              ...             ...   \n",
       "495104                    6.0     46511.630000    23255.814000   \n",
       "495105                 1418.0         0.371079        0.172595   \n",
       "495106                 4344.0         0.132676        0.071441   \n",
       "495107                    6.0     31746.031000    15873.016000   \n",
       "495108                    0.0         1.120257        0.000000   \n",
       "\n",
       "         Packet Length Variance   PSH Flag Count   Down/Up Ratio  \\\n",
       "0                  2.770409e+06              0.0             1.0   \n",
       "1                  5.333334e+00              1.0             1.0   \n",
       "2                  3.662699e+06              0.0             1.0   \n",
       "3                  3.327892e+06              1.0             2.0   \n",
       "4                  5.333334e+00              1.0             1.0   \n",
       "...                         ...              ...             ...   \n",
       "495104             1.200000e+01              1.0             1.0   \n",
       "495105             1.453902e+05              1.0             0.0   \n",
       "495106             1.811930e+06              0.0             1.0   \n",
       "495107             5.333334e+00              1.0             1.0   \n",
       "495108             0.000000e+00              0.0             0.0   \n",
       "\n",
       "         Subflow Bwd Packets   Subflow Bwd Bytes  Init_Win_bytes_forward  \\\n",
       "0                       10.0                68.0                   229.0   \n",
       "1                        1.0                 6.0                  1024.0   \n",
       "2                        9.0                62.0                   229.0   \n",
       "3                        7.0             11595.0                 29200.0   \n",
       "4                        1.0                 6.0                  1024.0   \n",
       "...                      ...                 ...                     ...   \n",
       "495104                   1.0                 6.0                 29200.0   \n",
       "495105                  20.0              5130.0                 29200.0   \n",
       "495106                   7.0             11595.0                   251.0   \n",
       "495107                   1.0                 6.0                  1024.0   \n",
       "495108                   0.0                 0.0                   256.0   \n",
       "\n",
       "         act_data_pkt_fwd   min_seg_size_forward   Flow Duration  \\\n",
       "0                     5.0                   20.0      80942880.0   \n",
       "1                     0.0                   24.0            13.0   \n",
       "2                     4.0                   20.0      71007070.0   \n",
       "3                     1.0                   32.0        147807.0   \n",
       "4                     0.0                   24.0            57.0   \n",
       "...                   ...                    ...             ...   \n",
       "495104                0.0                   40.0            43.0   \n",
       "495105                5.0                   32.0     115878344.0   \n",
       "495106                1.0                   32.0      97982880.0   \n",
       "495107                0.0                   24.0            63.0   \n",
       "495108                5.0                   20.0       5355914.0   \n",
       "\n",
       "         Flow IAT Mean   Flow IAT Max   Fwd IAT Mean   Fwd IAT Max  \\\n",
       "0            5058930.0     73600000.0     13500000.0    80300000.0   \n",
       "1                 13.0           13.0            0.0           0.0   \n",
       "2            5071934.0     66900000.0     14200000.0    70600000.0   \n",
       "3              16423.0       135274.0         6010.0       11001.0   \n",
       "4                 57.0           57.0            0.0           0.0   \n",
       "...                ...            ...            ...           ...   \n",
       "495104            43.0           43.0            0.0           0.0   \n",
       "495105       2759008.2     10000000.0      5267197.5    10100000.0   \n",
       "495106       8165240.0     97800000.0     19600000.0    97800000.0   \n",
       "495107            63.0           63.0            0.0           0.0   \n",
       "495108       1071182.8      5354907.0      1071182.8     5354907.0   \n",
       "\n",
       "            Idle Std  \n",
       "0       4.730000e+07  \n",
       "1       0.000000e+00  \n",
       "2       0.000000e+00  \n",
       "3       0.000000e+00  \n",
       "4       0.000000e+00  \n",
       "...              ...  \n",
       "495104  0.000000e+00  \n",
       "495105  4.626007e+03  \n",
       "495106  0.000000e+00  \n",
       "495107  0.000000e+00  \n",
       "495108  0.000000e+00  \n",
       "\n",
       "[495109 rows x 19 columns]"
      ]
     },
     "execution_count": 6,
     "metadata": {},
     "output_type": "execute_result"
    }
   ],
   "source": [
    "X = df.iloc[:, :-1]\n",
    "X"
   ]
  },
  {
   "cell_type": "code",
   "execution_count": null,
   "id": "6d97a14e",
   "metadata": {},
   "outputs": [],
   "source": []
  },
  {
   "cell_type": "code",
   "execution_count": 7,
   "id": "4cb8792a",
   "metadata": {},
   "outputs": [],
   "source": [
    "classList = df.iloc[:, -1]\n",
    "convertor = LabelEncoder()\n",
    "Y = convertor.fit_transform(classList)"
   ]
  },
  {
   "cell_type": "code",
   "execution_count": 8,
   "id": "89a0a0c2",
   "metadata": {},
   "outputs": [
    {
     "data": {
      "text/plain": [
       "{0: 'BENIGN',\n",
       " 1: 'DDoS',\n",
       " 2: 'FTP-Patator',\n",
       " 3: 'PortScan',\n",
       " 4: 'SSH-Patator',\n",
       " 5: 'Web Attack'}"
      ]
     },
     "execution_count": 8,
     "metadata": {},
     "output_type": "execute_result"
    }
   ],
   "source": [
    "dict(enumerate(convertor.classes_))"
   ]
  },
  {
   "cell_type": "code",
   "execution_count": 9,
   "id": "72d218b2",
   "metadata": {},
   "outputs": [
    {
     "data": {
      "text/plain": [
       "(495109, 19)"
      ]
     },
     "execution_count": 9,
     "metadata": {},
     "output_type": "execute_result"
    }
   ],
   "source": [
    "fit = StandardScaler()\n",
    "X = fit.fit_transform(X)\n",
    "X.shape"
   ]
  },
  {
   "cell_type": "code",
   "execution_count": 15,
   "id": "91e1d259",
   "metadata": {},
   "outputs": [
    {
     "data": {
      "text/plain": [
       "array([[ 8.04675866e-03, -6.66120582e-03, -5.37759520e-01, ...,\n",
       "         1.08923145e+00,  1.99607089e+00,  7.03250957e+00],\n",
       "       [-1.09126497e-02, -6.71110250e-03, -5.42995273e-01, ...,\n",
       "        -3.72968858e-01, -4.73429381e-01, -1.43556645e-01],\n",
       "       [ 5.94015773e-03, -6.66603453e-03, -5.37759520e-01, ...,\n",
       "         1.16504925e+00,  1.69776264e+00, -1.43556645e-01],\n",
       "       ...,\n",
       "       [ 1.72695588e-03,  2.61555379e-03,  1.07934047e+00, ...,\n",
       "         1.74992937e+00,  2.53425588e+00, -1.43556645e-01],\n",
       "       [-1.09126497e-02, -6.71110250e-03, -5.42995273e-01, ...,\n",
       "        -3.72968858e-01, -4.73429381e-01, -1.43556645e-01],\n",
       "       [-1.30192506e-02, -6.71593122e-03, -5.45239168e-01, ...,\n",
       "        -2.56947834e-01, -3.08747634e-01, -1.43556645e-01]])"
      ]
     },
     "execution_count": 15,
     "metadata": {},
     "output_type": "execute_result"
    }
   ],
   "source": [
    "X"
   ]
  },
  {
   "cell_type": "code",
   "execution_count": 11,
   "id": "bcbf47c5",
   "metadata": {},
   "outputs": [
    {
     "data": {
      "text/plain": [
       "array([0, 3, 0, ..., 1, 3, 1])"
      ]
     },
     "execution_count": 11,
     "metadata": {},
     "output_type": "execute_result"
    }
   ],
   "source": [
    "Y"
   ]
  },
  {
   "cell_type": "code",
   "execution_count": null,
   "id": "5a1f6745",
   "metadata": {},
   "outputs": [],
   "source": []
  },
  {
   "cell_type": "markdown",
   "id": "885d31f7",
   "metadata": {},
   "source": [
    "### Split Dataset"
   ]
  },
  {
   "cell_type": "code",
   "execution_count": 17,
   "id": "e3ae96ee",
   "metadata": {},
   "outputs": [],
   "source": [
    "X_train, X_test, Y_train, Y_test = train_test_split(X,Y,test_size=0.2,random_state=20)"
   ]
  },
  {
   "cell_type": "code",
   "execution_count": 47,
   "id": "54f3f33c",
   "metadata": {},
   "outputs": [
    {
     "name": "stdout",
     "output_type": "stream",
     "text": [
      "Training Sample :\n",
      "X = (396087, 19), Y = (396087,)\n",
      "\n",
      "\n",
      "Testing Sample :\n",
      "X = (99022, 19), Y = (99022,)\n"
     ]
    }
   ],
   "source": [
    "print('Training Sample :')\n",
    "print(f'X = {X_train.shape}, Y = {Y_train.shape}')\n",
    "print(\"\\n\")\n",
    "print('Testing Sample :')\n",
    "print(f'X = {X_test.shape}, Y = {Y_test.shape}')"
   ]
  },
  {
   "cell_type": "markdown",
   "id": "538733ea",
   "metadata": {},
   "source": [
    "### Random Forest Classifier"
   ]
  },
  {
   "cell_type": "code",
   "execution_count": 19,
   "id": "2a036cf7",
   "metadata": {
    "scrolled": true
   },
   "outputs": [
    {
     "data": {
      "text/plain": [
       "RandomForestClassifier()"
      ]
     },
     "execution_count": 19,
     "metadata": {},
     "output_type": "execute_result"
    }
   ],
   "source": [
    "rf = RandomForestClassifier()\n",
    "rf.fit(X_train, Y_train)"
   ]
  },
  {
   "cell_type": "code",
   "execution_count": 20,
   "id": "d1a629f7",
   "metadata": {},
   "outputs": [
    {
     "data": {
      "text/plain": [
       "100"
      ]
     },
     "execution_count": 20,
     "metadata": {},
     "output_type": "execute_result"
    }
   ],
   "source": [
    "rf.n_estimators"
   ]
  },
  {
   "cell_type": "code",
   "execution_count": 21,
   "id": "d3eb746d",
   "metadata": {},
   "outputs": [
    {
     "data": {
      "text/plain": [
       "array([[-1.09126497e-02, -6.71110250e-03, -5.42995273e-01, ...,\n",
       "        -3.72968858e-01, -4.73429381e-01, -1.43556645e-01],\n",
       "       [-2.48624598e-03,  2.61555379e-03,  2.16239357e+00, ...,\n",
       "         1.42499597e+00,  2.59268740e+00, -1.43556645e-01],\n",
       "       [-2.48624598e-03,  2.61555379e-03,  3.24956047e+00, ...,\n",
       "         7.85960279e-01,  2.14061200e+00, -1.43556645e-01],\n",
       "       ...,\n",
       "       [-3.79645050e-04,  2.61555379e-03,  2.16239357e+00, ...,\n",
       "        -3.72261965e-01, -4.73029433e-01, -1.43556645e-01],\n",
       "       [-8.80604876e-03, -6.40206497e-03, -4.72312596e-01, ...,\n",
       "        -3.72968533e-01, -4.73429289e-01, -1.43556645e-01],\n",
       "       [-4.59284690e-03,  2.62038250e-03,  2.73084685e+00, ...,\n",
       "         7.31804712e-01,  1.53476947e+00,  6.22842604e+00]])"
      ]
     },
     "execution_count": 21,
     "metadata": {},
     "output_type": "execute_result"
    }
   ],
   "source": [
    "X_train"
   ]
  },
  {
   "cell_type": "markdown",
   "id": "0f766c43",
   "metadata": {},
   "source": [
    "### Predictions and acccuracy"
   ]
  },
  {
   "cell_type": "code",
   "execution_count": 22,
   "id": "fd589d27",
   "metadata": {},
   "outputs": [
    {
     "data": {
      "text/plain": [
       "array(['PortScan', 'DDoS', 'DDoS', ..., 'DDoS', 'BENIGN', 'DDoS'],\n",
       "      dtype=object)"
      ]
     },
     "execution_count": 22,
     "metadata": {},
     "output_type": "execute_result"
    }
   ],
   "source": [
    "predict_train = rf.pred\n",
    "ict(X_train)\n",
    "convertor.inverse_transform(predict_train)"
   ]
  },
  {
   "cell_type": "code",
   "execution_count": 23,
   "id": "869c2a33",
   "metadata": {},
   "outputs": [
    {
     "data": {
      "text/plain": [
       "0.9983084524359547"
      ]
     },
     "execution_count": 23,
     "metadata": {},
     "output_type": "execute_result"
    }
   ],
   "source": [
    "accuracy_train = accuracy_score(Y_train,predict_train)\n",
    "accuracy_train"
   ]
  },
  {
   "cell_type": "code",
   "execution_count": 24,
   "id": "762a38f4",
   "metadata": {},
   "outputs": [
    {
     "data": {
      "text/plain": [
       "array(['DDoS', 'BENIGN', 'BENIGN', ..., 'DDoS', 'DDoS', 'DDoS'],\n",
       "      dtype=object)"
      ]
     },
     "execution_count": 24,
     "metadata": {},
     "output_type": "execute_result"
    }
   ],
   "source": [
    "predict_test = rf.predict(X_test)\n",
    "convertor.inverse_transform(predict_test)"
   ]
  },
  {
   "cell_type": "code",
   "execution_count": 42,
   "id": "8f90f1ef",
   "metadata": {},
   "outputs": [
    {
     "data": {
      "text/plain": [
       "array([1, 0, 0, ..., 1, 1, 1])"
      ]
     },
     "execution_count": 42,
     "metadata": {},
     "output_type": "execute_result"
    }
   ],
   "source": [
    "Y_test"
   ]
  },
  {
   "cell_type": "code",
   "execution_count": 43,
   "id": "ac6cd428",
   "metadata": {},
   "outputs": [
    {
     "data": {
      "text/plain": [
       "array([1, 0, 0, ..., 1, 1, 1])"
      ]
     },
     "execution_count": 43,
     "metadata": {},
     "output_type": "execute_result"
    }
   ],
   "source": [
    "predict_test"
   ]
  },
  {
   "cell_type": "code",
   "execution_count": 25,
   "id": "ba0d99d8",
   "metadata": {},
   "outputs": [
    {
     "data": {
      "text/plain": [
       "0.9973642220920603"
      ]
     },
     "execution_count": 25,
     "metadata": {},
     "output_type": "execute_result"
    }
   ],
   "source": [
    "accuracy_test = accuracy_score(Y_test,predict_test)\n",
    "accuracy_test"
   ]
  },
  {
   "cell_type": "markdown",
   "id": "c9cbd9de",
   "metadata": {},
   "source": [
    "### Conclusions"
   ]
  },
  {
   "cell_type": "code",
   "execution_count": 26,
   "id": "f2d9af1b",
   "metadata": {},
   "outputs": [
    {
     "data": {
      "text/plain": [
       "array([[48994,    25,     0,     1,     1,   166],\n",
       "       [   39, 30489,     0,     1,     0,     0],\n",
       "       [    1,     0,  1612,     0,     0,     1],\n",
       "       [    1,     4,     0, 16007,     0,     0],\n",
       "       [    6,     0,     0,     0,  1242,     0],\n",
       "       [   14,     0,     0,     0,     1,   417]], dtype=int64)"
      ]
     },
     "execution_count": 26,
     "metadata": {},
     "output_type": "execute_result"
    }
   ],
   "source": [
    "cm = confusion_matrix(Y_test,predict_test)\n",
    "cm"
   ]
  },
  {
   "cell_type": "code",
   "execution_count": 60,
   "id": "32a56d1a",
   "metadata": {},
   "outputs": [
    {
     "name": "stdout",
     "output_type": "stream",
     "text": [
      "Accuracy:  99.74\n",
      "F1:  99.75\n",
      "Precision:  99.78\n"
     ]
    }
   ],
   "source": [
    "acc = accuracy_score(Y_test, predict_test)\n",
    "f1 = f1_score(Y_test, predict_test, average= 'weighted')\n",
    "precision = precision_score(Y_test, predict_test, average='weighted')\n",
    "\n",
    "print('Accuracy: ', \"%.2f\" % (acc*100))\n",
    "print('F1: ', \"%.2f\" % (f1*100))\n",
    "print(\"Precision: \", \"%.2f\" % (precision*100))"
   ]
  },
  {
   "cell_type": "code",
   "execution_count": 40,
   "id": "65822542",
   "metadata": {},
   "outputs": [],
   "source": [
    "cm = confusion_matrix(Y_test, predict_test)\n",
    "cr = classification_report(Y_test, predict_test)"
   ]
  },
  {
   "cell_type": "code",
   "execution_count": 41,
   "id": "934ca93c",
   "metadata": {},
   "outputs": [
    {
     "name": "stdout",
     "output_type": "stream",
     "text": [
      "Confusion Matrix: \n",
      " [[48994    25     0     1     1   166]\n",
      " [   39 30489     0     1     0     0]\n",
      " [    1     0  1612     0     0     1]\n",
      " [    1     4     0 16007     0     0]\n",
      " [    6     0     0     0  1242     0]\n",
      " [   14     0     0     0     1   417]]\n",
      "\n",
      "\n",
      "Classification Report: \n",
      "               precision    recall  f1-score   support\n",
      "\n",
      "           0       1.00      1.00      1.00     49187\n",
      "           1       1.00      1.00      1.00     30529\n",
      "           2       1.00      1.00      1.00      1614\n",
      "           3       1.00      1.00      1.00     16012\n",
      "           4       1.00      1.00      1.00      1248\n",
      "           5       0.71      0.97      0.82       432\n",
      "\n",
      "    accuracy                           1.00     99022\n",
      "   macro avg       0.95      0.99      0.97     99022\n",
      "weighted avg       1.00      1.00      1.00     99022\n",
      "\n"
     ]
    }
   ],
   "source": [
    "print(\"Confusion Matrix: \\n\", cm)\n",
    "print(\"\\n\")\n",
    "print(\"Classification Report: \\n\", cr)"
   ]
  },
  {
   "cell_type": "code",
   "execution_count": 44,
   "id": "e16ce331",
   "metadata": {},
   "outputs": [],
   "source": [
    "import seaborn as sns"
   ]
  },
  {
   "cell_type": "code",
   "execution_count": 45,
   "id": "c4e497c5",
   "metadata": {},
   "outputs": [],
   "source": [
    "labels = ['BENIGN', 'DDoS', 'FTP-Patator', 'PortScan', 'SSH-Patator', 'Web Attack']"
   ]
  },
  {
   "cell_type": "code",
   "execution_count": 46,
   "id": "3da5c10d",
   "metadata": {},
   "outputs": [
    {
     "data": {
      "text/plain": [
       "Text(69.0, 0.5, 'Actual Values')"
      ]
     },
     "execution_count": 46,
     "metadata": {},
     "output_type": "execute_result"
    },
    {
     "data": {
      "image/png": "[encoded data removed]",
      "text/plain": [
       "<Figure size 720x504 with 2 Axes>"
      ]
     },
     "metadata": {
      "needs_background": "light"
     },
     "output_type": "display_data"
    }
   ],
   "source": [
    "plt.figure(figsize=(10,7))\n",
    "sns.heatmap(cm,annot=True,cmap=\"Blues\",xticklabels=labels,yticklabels=labels)\n",
    "plt.xlabel('Predicted Values')\n",
    "plt.ylabel('Actual Values')"
   ]
  },
  {
   "cell_type": "markdown",
   "id": "4e2d733e",
   "metadata": {},
   "source": [
    "## Saving model"
   ]
  },
  {
   "cell_type": "code",
   "execution_count": 40,
   "id": "8ca946b3",
   "metadata": {},
   "outputs": [],
   "source": [
    "from joblib import Parallel, delayed\n",
    "import joblib"
   ]
  },
  {
   "cell_type": "code",
   "execution_count": 41,
   "id": "c66fb33d",
   "metadata": {},
   "outputs": [
    {
     "data": {
      "text/plain": [
       "['random_forest.pkl']"
      ]
     },
     "execution_count": 41,
     "metadata": {},
     "output_type": "execute_result"
    }
   ],
   "source": [
    "joblib.dump(rf, 'random_forest.pkl')"
   ]
  },
  {
   "cell_type": "code",
   "execution_count": null,
   "id": "ec573618",
   "metadata": {},
   "outputs": [],
   "source": []
  }
 ],
 "metadata": {
  "kernelspec": {
   "display_name": "Python 3",
   "language": "python",
   "name": "python3"
  },
  "language_info": {
   "codemirror_mode": {
    "name": "ipython",
    "version": 3
   },
   "file_extension": ".py",
   "mimetype": "text/x-python",
   "name": "python",
   "nbconvert_exporter": "python",
   "pygments_lexer": "ipython3",
   "version": "3.8.8"
  }
 },
 "nbformat": 4,
 "nbformat_minor": 5
}
