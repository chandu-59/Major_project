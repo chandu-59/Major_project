{
 "cells": [
  {
   "cell_type": "code",
   "execution_count": null,
   "metadata": {
    "id": "-43BdMPX_S1T"
   },
   "outputs": [],
   "source": [
    "import pandas as pd\n",
    "import numpy as np\n",
    "from keras.models import Sequential\n",
    "from keras.layers import Dense, LSTM, Dropout\n",
    "from sklearn.model_selection import train_test_split\n",
    "from sklearn.metrics import accuracy_score, f1_score, precision_score, classification_report\n",
    "from sklearn.metrics import precision_recall_fscore_support"
   ]
  },
  {
   "cell_type": "code",
   "execution_count": null,
   "metadata": {
    "colab": {
     "base_uri": "https://localhost:8080/",
     "height": 302
    },
    "id": "kxsttMPu_w5d",
    "outputId": "a21dc1b1-88c5-4332-e271-ca2c99adf171"
   },
   "outputs": [
    {
     "data": {
      "text/html": [
       "\n",
       "  <div id=\"df-446ceb00-46fd-4036-87b0-e1071d69f300\">\n",
       "    <div class=\"colab-df-container\">\n",
       "      <div>\n",
       "<style scoped>\n",
       "    .dataframe tbody tr th:only-of-type {\n",
       "        vertical-align: middle;\n",
       "    }\n",
       "\n",
       "    .dataframe tbody tr th {\n",
       "        vertical-align: top;\n",
       "    }\n",
       "\n",
       "    .dataframe thead th {\n",
       "        text-align: right;\n",
       "    }\n",
       "</style>\n",
       "<table border=\"1\" class=\"dataframe\">\n",
       "  <thead>\n",
       "    <tr style=\"text-align: right;\">\n",
       "      <th></th>\n",
       "      <th>Bwd Packet Length Mean</th>\n",
       "      <th>Flow IAT Mean</th>\n",
       "      <th>Flow IAT Std</th>\n",
       "      <th>Flow IAT Max</th>\n",
       "      <th>Fwd IAT Std</th>\n",
       "      <th>Fwd IAT Max</th>\n",
       "      <th>Packet Length Variance</th>\n",
       "      <th>PSH Flag Count</th>\n",
       "      <th>ACK Flag Count</th>\n",
       "      <th>Average Packet Size</th>\n",
       "      <th>Avg Bwd Segment Size</th>\n",
       "      <th>Idle Max</th>\n",
       "      <th>Flow Duration</th>\n",
       "      <th>Fwd IAT Total</th>\n",
       "      <th>Fwd IAT Mean</th>\n",
       "      <th>Idle Std</th>\n",
       "      <th>Label</th>\n",
       "    </tr>\n",
       "  </thead>\n",
       "  <tbody>\n",
       "    <tr>\n",
       "      <th>0</th>\n",
       "      <td>0.0</td>\n",
       "      <td>3.0</td>\n",
       "      <td>0.0</td>\n",
       "      <td>3</td>\n",
       "      <td>0.0</td>\n",
       "      <td>3</td>\n",
       "      <td>0.0</td>\n",
       "      <td>0</td>\n",
       "      <td>1</td>\n",
       "      <td>9.0</td>\n",
       "      <td>0.0</td>\n",
       "      <td>0</td>\n",
       "      <td>3</td>\n",
       "      <td>3</td>\n",
       "      <td>3.0</td>\n",
       "      <td>0.0</td>\n",
       "      <td>BENIGN</td>\n",
       "    </tr>\n",
       "    <tr>\n",
       "      <th>1</th>\n",
       "      <td>6.0</td>\n",
       "      <td>109.0</td>\n",
       "      <td>0.0</td>\n",
       "      <td>109</td>\n",
       "      <td>0.0</td>\n",
       "      <td>0</td>\n",
       "      <td>0.0</td>\n",
       "      <td>0</td>\n",
       "      <td>1</td>\n",
       "      <td>9.0</td>\n",
       "      <td>6.0</td>\n",
       "      <td>0</td>\n",
       "      <td>109</td>\n",
       "      <td>0</td>\n",
       "      <td>0.0</td>\n",
       "      <td>0.0</td>\n",
       "      <td>BENIGN</td>\n",
       "    </tr>\n",
       "    <tr>\n",
       "      <th>2</th>\n",
       "      <td>6.0</td>\n",
       "      <td>52.0</td>\n",
       "      <td>0.0</td>\n",
       "      <td>52</td>\n",
       "      <td>0.0</td>\n",
       "      <td>0</td>\n",
       "      <td>0.0</td>\n",
       "      <td>0</td>\n",
       "      <td>1</td>\n",
       "      <td>9.0</td>\n",
       "      <td>6.0</td>\n",
       "      <td>0</td>\n",
       "      <td>52</td>\n",
       "      <td>0</td>\n",
       "      <td>0.0</td>\n",
       "      <td>0.0</td>\n",
       "      <td>BENIGN</td>\n",
       "    </tr>\n",
       "    <tr>\n",
       "      <th>3</th>\n",
       "      <td>6.0</td>\n",
       "      <td>34.0</td>\n",
       "      <td>0.0</td>\n",
       "      <td>34</td>\n",
       "      <td>0.0</td>\n",
       "      <td>0</td>\n",
       "      <td>0.0</td>\n",
       "      <td>0</td>\n",
       "      <td>1</td>\n",
       "      <td>9.0</td>\n",
       "      <td>6.0</td>\n",
       "      <td>0</td>\n",
       "      <td>34</td>\n",
       "      <td>0</td>\n",
       "      <td>0.0</td>\n",
       "      <td>0.0</td>\n",
       "      <td>BENIGN</td>\n",
       "    </tr>\n",
       "    <tr>\n",
       "      <th>4</th>\n",
       "      <td>0.0</td>\n",
       "      <td>3.0</td>\n",
       "      <td>0.0</td>\n",
       "      <td>3</td>\n",
       "      <td>0.0</td>\n",
       "      <td>3</td>\n",
       "      <td>0.0</td>\n",
       "      <td>0</td>\n",
       "      <td>1</td>\n",
       "      <td>9.0</td>\n",
       "      <td>0.0</td>\n",
       "      <td>0</td>\n",
       "      <td>3</td>\n",
       "      <td>3</td>\n",
       "      <td>3.0</td>\n",
       "      <td>0.0</td>\n",
       "      <td>BENIGN</td>\n",
       "    </tr>\n",
       "  </tbody>\n",
       "</table>\n",
       "</div>\n",
       "      <button class=\"colab-df-convert\" onclick=\"convertToInteractive('df-446ceb00-46fd-4036-87b0-e1071d69f300')\"\n",
       "              title=\"Convert this dataframe to an interactive table.\"\n",
       "              style=\"display:none;\">\n",
       "        \n",
       "  <svg xmlns=\"http://www.w3.org/2000/svg\" height=\"24px\"viewBox=\"0 0 24 24\"\n",
       "       width=\"24px\">\n",
       "    <path d=\"M0 0h24v24H0V0z\" fill=\"none\"/>\n",
       "    <path d=\"M18.56 5.44l.94 2.06.94-2.06 2.06-.94-2.06-.94-.94-2.06-.94 2.06-2.06.94zm-11 1L8.5 8.5l.94-2.06 2.06-.94-2.06-.94L8.5 2.5l-.94 2.06-2.06.94zm10 10l.94 2.06.94-2.06 2.06-.94-2.06-.94-.94-2.06-.94 2.06-2.06.94z\"/><path d=\"M17.41 7.96l-1.37-1.37c-.4-.4-.92-.59-1.43-.59-.52 0-1.04.2-1.43.59L10.3 9.45l-7.72 7.72c-.78.78-.78 2.05 0 2.83L4 21.41c.39.39.9.59 1.41.59.51 0 1.02-.2 1.41-.59l7.78-7.78 2.81-2.81c.8-.78.8-2.07 0-2.86zM5.41 20L4 18.59l7.72-7.72 1.47 1.35L5.41 20z\"/>\n",
       "  </svg>\n",
       "      </button>\n",
       "      \n",
       "  <style>\n",
       "    .colab-df-container {\n",
       "      display:flex;\n",
       "      flex-wrap:wrap;\n",
       "      gap: 12px;\n",
       "    }\n",
       "\n",
       "    .colab-df-convert {\n",
       "      background-color: #E8F0FE;\n",
       "      border: none;\n",
       "      border-radius: 50%;\n",
       "      cursor: pointer;\n",
       "      display: none;\n",
       "      fill: #1967D2;\n",
       "      height: 32px;\n",
       "      padding: 0 0 0 0;\n",
       "      width: 32px;\n",
       "    }\n",
       "\n",
       "    .colab-df-convert:hover {\n",
       "      background-color: #E2EBFA;\n",
       "      box-shadow: 0px 1px 2px rgba(60, 64, 67, 0.3), 0px 1px 3px 1px rgba(60, 64, 67, 0.15);\n",
       "      fill: #174EA6;\n",
       "    }\n",
       "\n",
       "    [theme=dark] .colab-df-convert {\n",
       "      background-color: #3B4455;\n",
       "      fill: #D2E3FC;\n",
       "    }\n",
       "\n",
       "    [theme=dark] .colab-df-convert:hover {\n",
       "      background-color: #434B5C;\n",
       "      box-shadow: 0px 1px 3px 1px rgba(0, 0, 0, 0.15);\n",
       "      filter: drop-shadow(0px 1px 2px rgba(0, 0, 0, 0.3));\n",
       "      fill: #FFFFFF;\n",
       "    }\n",
       "  </style>\n",
       "\n",
       "      <script>\n",
       "        const buttonEl =\n",
       "          document.querySelector('#df-446ceb00-46fd-4036-87b0-e1071d69f300 button.colab-df-convert');\n",
       "        buttonEl.style.display =\n",
       "          google.colab.kernel.accessAllowed ? 'block' : 'none';\n",
       "\n",
       "        async function convertToInteractive(key) {\n",
       "          const element = document.querySelector('#df-446ceb00-46fd-4036-87b0-e1071d69f300');\n",
       "          const dataTable =\n",
       "            await google.colab.kernel.invokeFunction('convertToInteractive',\n",
       "                                                     [key], {});\n",
       "          if (!dataTable) return;\n",
       "\n",
       "          const docLinkHtml = 'Like what you see? Visit the ' +\n",
       "            '<a target=\"_blank\" href=https://colab.research.google.com/notebooks/data_table.ipynb>data table notebook</a>'\n",
       "            + ' to learn more about interactive tables.';\n",
       "          element.innerHTML = '';\n",
       "          dataTable['output_type'] = 'display_data';\n",
       "          await google.colab.output.renderOutput(dataTable, element);\n",
       "          const docLink = document.createElement('div');\n",
       "          docLink.innerHTML = docLinkHtml;\n",
       "          element.appendChild(docLink);\n",
       "        }\n",
       "      </script>\n",
       "    </div>\n",
       "  </div>\n",
       "  "
      ],
      "text/plain": [
       "    Bwd Packet Length Mean   Flow IAT Mean   Flow IAT Std   Flow IAT Max  \\\n",
       "0                      0.0             3.0            0.0              3   \n",
       "1                      6.0           109.0            0.0            109   \n",
       "2                      6.0            52.0            0.0             52   \n",
       "3                      6.0            34.0            0.0             34   \n",
       "4                      0.0             3.0            0.0              3   \n",
       "\n",
       "    Fwd IAT Std   Fwd IAT Max   Packet Length Variance   PSH Flag Count  \\\n",
       "0           0.0             3                      0.0                0   \n",
       "1           0.0             0                      0.0                0   \n",
       "2           0.0             0                      0.0                0   \n",
       "3           0.0             0                      0.0                0   \n",
       "4           0.0             3                      0.0                0   \n",
       "\n",
       "    ACK Flag Count   Average Packet Size   Avg Bwd Segment Size   Idle Max  \\\n",
       "0                1                   9.0                    0.0          0   \n",
       "1                1                   9.0                    6.0          0   \n",
       "2                1                   9.0                    6.0          0   \n",
       "3                1                   9.0                    6.0          0   \n",
       "4                1                   9.0                    0.0          0   \n",
       "\n",
       "    Flow Duration  Fwd IAT Total   Fwd IAT Mean   Idle Std   Label  \n",
       "0               3              3            3.0        0.0  BENIGN  \n",
       "1             109              0            0.0        0.0  BENIGN  \n",
       "2              52              0            0.0        0.0  BENIGN  \n",
       "3              34              0            0.0        0.0  BENIGN  \n",
       "4               3              3            3.0        0.0  BENIGN  "
      ]
     },
     "execution_count": 29,
     "metadata": {},
     "output_type": "execute_result"
    }
   ],
   "source": [
    "df = pd.read_csv('selected_features (1).csv')\n",
    "df.head()"
   ]
  },
  {
   "cell_type": "code",
   "execution_count": null,
   "metadata": {
    "id": "IY-1m000Cj9K"
   },
   "outputs": [],
   "source": [
    "df['Label'] = np.where(df['Label'] == 'BENIGN', 0, 1)"
   ]
  },
  {
   "cell_type": "code",
   "execution_count": null,
   "metadata": {
    "id": "nuCgMFkIE6S-"
   },
   "outputs": [],
   "source": [
    "# Shuffle the data\n",
    "# df = df.sample(frac=1).reset_index(drop=True)"
   ]
  },
  {
   "cell_type": "code",
   "execution_count": null,
   "metadata": {
    "id": "ZnRxdXczA5PB"
   },
   "outputs": [],
   "source": [
    "# Split the data into inputs and outputs\n",
    "X = df.iloc[:, :16].values\n",
    "Y = df.iloc[:, 16:].values"
   ]
  },
  {
   "cell_type": "code",
   "execution_count": null,
   "metadata": {
    "id": "HpytKMNhBEBs"
   },
   "outputs": [],
   "source": [
    "X = X.reshape((X.shape[0], 1, X.shape[1]))\n",
    "\n",
    "# Split the data into train, validation, and test sets\n",
    "X_train, X_test, Y_train, Y_test = train_test_split(X, Y, test_size=0.2, random_state=42)\n",
    "X_train, X_val, Y_train, Y_val = train_test_split(X_train, Y_train, test_size=0.2, random_state=42)"
   ]
  },
  {
   "cell_type": "code",
   "execution_count": null,
   "metadata": {
    "id": "DxDdMl37BVvi"
   },
   "outputs": [],
   "source": [
    "model = Sequential()\n",
    "model.add(LSTM(64, input_shape=(1, 16), return_sequences=True))\n",
    "model.add(Dropout(0.2))\n",
    "model.add(LSTM(32))\n",
    "model.add(Dropout(0.2))\n",
    "model.add(Dense(1, activation='linear'))"
   ]
  },
  {
   "cell_type": "code",
   "execution_count": null,
   "metadata": {
    "id": "X6JjDslcBgmx"
   },
   "outputs": [],
   "source": [
    "model.compile(loss='mean_squared_error', optimizer='adam', metrics=['accuracy'])"
   ]
  },
  {
   "cell_type": "code",
   "execution_count": null,
   "metadata": {
    "colab": {
     "base_uri": "https://localhost:8080/"
    },
    "id": "0pblMWOkBk7W",
    "outputId": "7ee110c3-4ba3-44b6-9f80-6d911e29de69"
   },
   "outputs": [
    {
     "name": "stdout",
     "output_type": "stream",
     "text": [
      "Epoch 1/10\n",
      "4515/4515 [==============================] - 42s 7ms/step - loss: 0.1342 - accuracy: 0.8220 - val_loss: 0.0905 - val_accuracy: 0.8885\n",
      "Epoch 2/10\n",
      "4515/4515 [==============================] - 30s 7ms/step - loss: 0.1032 - accuracy: 0.8678 - val_loss: 0.0797 - val_accuracy: 0.9018\n",
      "Epoch 3/10\n",
      "4515/4515 [==============================] - 30s 7ms/step - loss: 0.0956 - accuracy: 0.8816 - val_loss: 0.0686 - val_accuracy: 0.9142\n",
      "Epoch 4/10\n",
      "4515/4515 [==============================] - 30s 7ms/step - loss: 0.0993 - accuracy: 0.8822 - val_loss: 0.0689 - val_accuracy: 0.9175\n",
      "Epoch 5/10\n",
      "4515/4515 [==============================] - 32s 7ms/step - loss: 0.1137 - accuracy: 0.8594 - val_loss: 0.0645 - val_accuracy: 0.8997\n",
      "Epoch 6/10\n",
      "4515/4515 [==============================] - 30s 7ms/step - loss: 0.1108 - accuracy: 0.8628 - val_loss: 0.0861 - val_accuracy: 0.9110\n",
      "Epoch 7/10\n",
      "4515/4515 [==============================] - 33s 7ms/step - loss: 0.1145 - accuracy: 0.8532 - val_loss: 0.0815 - val_accuracy: 0.9051\n",
      "Epoch 8/10\n",
      "4515/4515 [==============================] - 32s 7ms/step - loss: 0.1183 - accuracy: 0.8528 - val_loss: 0.0917 - val_accuracy: 0.8642\n",
      "Epoch 9/10\n",
      "4515/4515 [==============================] - 36s 8ms/step - loss: 0.1112 - accuracy: 0.8641 - val_loss: 0.0810 - val_accuracy: 0.9010\n",
      "Epoch 10/10\n",
      "4515/4515 [==============================] - 30s 7ms/step - loss: 0.1016 - accuracy: 0.8746 - val_loss: 0.0797 - val_accuracy: 0.8916\n"
     ]
    },
    {
     "data": {
      "text/plain": [
       "<keras.callbacks.History at 0x7f409c13b8e0>"
      ]
     },
     "execution_count": 10,
     "metadata": {},
     "output_type": "execute_result"
    }
   ],
   "source": [
    "model.fit(X_train, Y_train, epochs=10, batch_size=32, validation_data=(X_val, Y_val))"
   ]
  },
  {
   "cell_type": "code",
   "execution_count": null,
   "metadata": {
    "colab": {
     "base_uri": "https://localhost:8080/"
    },
    "id": "nYfaIdQF-pTq",
    "outputId": "e77cc604-b1d1-47f5-9001-99f7b0f3fa6b"
   },
   "outputs": [
    {
     "name": "stdout",
     "output_type": "stream",
     "text": [
      "1411/1411 [==============================] - 5s 3ms/step\n"
     ]
    },
    {
     "data": {
      "text/plain": [
       "array([[ 0.9163166 ],\n",
       "       [-0.00987452],\n",
       "       [ 0.12879023],\n",
       "       ...,\n",
       "       [ 0.05708867],\n",
       "       [ 0.9749825 ],\n",
       "       [ 0.9163166 ]], dtype=float32)"
      ]
     },
     "execution_count": 13,
     "metadata": {},
     "output_type": "execute_result"
    }
   ],
   "source": [
    "predict_test = model.predict(X_test)\n",
    "predict_test"
   ]
  },
  {
   "cell_type": "code",
   "execution_count": null,
   "metadata": {
    "colab": {
     "base_uri": "https://localhost:8080/"
    },
    "id": "8PWdhtfc9ZqW",
    "outputId": "62729037-6015-445b-ed65-4f6f95091c77"
   },
   "outputs": [
    {
     "name": "stdout",
     "output_type": "stream",
     "text": [
      "1411/1411 [==============================] - 4s 3ms/step\n",
      "Accuracy:  89.17\n",
      "F1:  25.84\n",
      "Precision:  75.49\n"
     ]
    }
   ],
   "source": [
    "loss, acc = model.evaluate(X_test, Y_test, verbose=0)\n",
    "predicted_labels = model.predict(X_test)\n",
    "predicted_labels = np.argmax(predicted_labels, axis=1)\n",
    "\n",
    "# Compute precision, recall, and F1 score for each class\n",
    "precision, recall, f1_score, _ = precision_recall_fscore_support(\n",
    "    Y_test, predicted_labels, average='weighted', zero_division=1)\n",
    "\n",
    "print('Accuracy: ', \"%.2f\" % (acc*100))\n",
    "print('F1: ', \"%.2f\" % (f1_score*100))\n",
    "print(\"Precision: \", \"%.2f\" % (precision*100))"
   ]
  },
  {
   "cell_type": "markdown",
   "metadata": {
    "id": "qXJYw3fy_10m"
   },
   "source": [
    "# RNN for Multi-class classification"
   ]
  },
  {
   "cell_type": "code",
   "execution_count": null,
   "metadata": {
    "id": "vJiZ3QoQEI-y"
   },
   "outputs": [],
   "source": [
    "import numpy as np\n",
    "import pandas as pd\n",
    "from sklearn.model_selection import train_test_split\n",
    "from sklearn.metrics import accuracy_score,confusion_matrix\n",
    "from sklearn.preprocessing import LabelEncoder\n",
    "from sklearn.ensemble import RandomForestClassifier\n",
    "import matplotlib.pyplot as plt\n",
    "import seaborn as sn"
   ]
  },
  {
   "cell_type": "code",
   "execution_count": null,
   "metadata": {
    "colab": {
     "base_uri": "https://localhost:8080/"
    },
    "id": "-Q8b5XBCAyPL",
    "outputId": "eb65ccdb-5016-4fac-cf18-24bccea0d6a4"
   },
   "outputs": [
    {
     "data": {
      "text/plain": [
       "(495109, 21)"
      ]
     },
     "execution_count": 19,
     "metadata": {},
     "output_type": "execute_result"
    }
   ],
   "source": [
    "df = pd.read_csv(\"final_dataset (1).csv\")\n",
    "df.shape"
   ]
  },
  {
   "cell_type": "code",
   "execution_count": null,
   "metadata": {
    "id": "tRcNlzohFgm1"
   },
   "outputs": [],
   "source": [
    "X = df.iloc[:, :-1]\n",
    "classList = df.iloc[:, -1]\n",
    "convertor = LabelEncoder()\n",
    "Y = convertor.fit_transform(classList)"
   ]
  },
  {
   "cell_type": "code",
   "execution_count": null,
   "metadata": {
    "colab": {
     "base_uri": "https://localhost:8080/"
    },
    "id": "El2w2lpOFnjw",
    "outputId": "6d95d38f-eac0-431c-e10f-54cde0e87177"
   },
   "outputs": [
    {
     "data": {
      "text/plain": [
       "{0: 'BENIGN',\n",
       " 1: 'DDoS',\n",
       " 2: 'FTP-Patator',\n",
       " 3: 'PortScan',\n",
       " 4: 'SSH-Patator',\n",
       " 5: 'Web Attack'}"
      ]
     },
     "execution_count": 21,
     "metadata": {},
     "output_type": "execute_result"
    }
   ],
   "source": [
    "dict(enumerate(convertor.classes_))"
   ]
  },
  {
   "cell_type": "code",
   "execution_count": null,
   "metadata": {
    "id": "ZBWgOK1MF0HF"
   },
   "outputs": [],
   "source": [
    "X=np.array(X)\n",
    "X = X.reshape((X.shape[0], 1, X.shape[1]))\n",
    "# Split the data into train, validation, and test sets\n",
    "X_train, X_test, Y_train, Y_test = train_test_split(X, Y, test_size=0.2, random_state=42)\n",
    "X_train, X_val, Y_train, Y_val = train_test_split(X_train, Y_train, test_size=0.2, random_state=42)"
   ]
  },
  {
   "cell_type": "code",
   "execution_count": null,
   "metadata": {
    "id": "iV1bPbI3F0C1"
   },
   "outputs": [],
   "source": [
    "model = Sequential()\n",
    "model.add(LSTM(64, input_shape=(1, 20), return_sequences=True))\n",
    "model.add(Dropout(0.2))\n",
    "model.add(LSTM(32))\n",
    "model.add(Dropout(0.2))\n",
    "model.add(Dense(1, activation='linear'))"
   ]
  },
  {
   "cell_type": "code",
   "execution_count": null,
   "metadata": {
    "id": "j7JzqVpVF0BD"
   },
   "outputs": [],
   "source": [
    "model.compile(loss='mean_squared_error', optimizer='adam', metrics=['accuracy'])"
   ]
  },
  {
   "cell_type": "code",
   "execution_count": null,
   "metadata": {
    "colab": {
     "base_uri": "https://localhost:8080/"
    },
    "id": "BWT5OtU5Fz9M",
    "outputId": "584222b7-0e73-48f5-e619-9f60d7401c03"
   },
   "outputs": [
    {
     "name": "stdout",
     "output_type": "stream",
     "text": [
      "Epoch 1/10\n",
      "9903/9903 [==============================] - 79s 8ms/step - loss: 0.9302 - accuracy: 0.4962 - val_loss: 0.8887 - val_accuracy: 0.5139\n",
      "Epoch 2/10\n",
      "9903/9903 [==============================] - 69s 7ms/step - loss: 0.8975 - accuracy: 0.5064 - val_loss: 0.8093 - val_accuracy: 0.5035\n",
      "Epoch 3/10\n",
      "9903/9903 [==============================] - 69s 7ms/step - loss: 0.9055 - accuracy: 0.4943 - val_loss: 0.7673 - val_accuracy: 0.5064\n",
      "Epoch 4/10\n",
      "9903/9903 [==============================] - 68s 7ms/step - loss: 0.8665 - accuracy: 0.4983 - val_loss: 0.7429 - val_accuracy: 0.4670\n",
      "Epoch 5/10\n",
      "9903/9903 [==============================] - 73s 7ms/step - loss: 0.8590 - accuracy: 0.5012 - val_loss: 0.8645 - val_accuracy: 0.5056\n",
      "Epoch 6/10\n",
      "9903/9903 [==============================] - 69s 7ms/step - loss: 0.8501 - accuracy: 0.5094 - val_loss: 0.8126 - val_accuracy: 0.5094\n",
      "Epoch 7/10\n",
      "9903/9903 [==============================] - 72s 7ms/step - loss: 0.8424 - accuracy: 0.5107 - val_loss: 0.8521 - val_accuracy: 0.5122\n",
      "Epoch 8/10\n",
      "9903/9903 [==============================] - 68s 7ms/step - loss: 0.8423 - accuracy: 0.5062 - val_loss: 0.7881 - val_accuracy: 0.4894\n",
      "Epoch 9/10\n",
      "9903/9903 [==============================] - 67s 7ms/step - loss: 0.8345 - accuracy: 0.5052 - val_loss: 0.7641 - val_accuracy: 0.5113\n",
      "Epoch 10/10\n",
      "9903/9903 [==============================] - 67s 7ms/step - loss: 0.8194 - accuracy: 0.5000 - val_loss: 0.7221 - val_accuracy: 0.5184\n"
     ]
    },
    {
     "data": {
      "text/plain": [
       "<keras.callbacks.History at 0x7f40a9cddd50>"
      ]
     },
     "execution_count": 25,
     "metadata": {},
     "output_type": "execute_result"
    }
   ],
   "source": [
    "model.fit(X_train, Y_train, epochs=10, batch_size=32, validation_data=(X_val, Y_val))"
   ]
  },
  {
   "cell_type": "code",
   "execution_count": null,
   "metadata": {
    "colab": {
     "base_uri": "https://localhost:8080/"
    },
    "id": "2zrxdONfJMnd",
    "outputId": "63629dc2-f1b4-4904-9a3c-8f92bcf2cba0"
   },
   "outputs": [
    {
     "name": "stdout",
     "output_type": "stream",
     "text": [
      "3095/3095 [==============================] - 8s 2ms/step\n",
      "Accuracy:  52.21\n",
      "F1:  33.39\n",
      "Precision:  75.00\n"
     ]
    }
   ],
   "source": [
    "loss, acc = model.evaluate(X_test, Y_test, verbose=0)\n",
    "predicted_labels = model.predict(X_test)\n",
    "predicted_labels = np.argmax(predicted_labels, axis=1)\n",
    "\n",
    "# Compute precision, recall, and F1 score for each class\n",
    "precision, recall, f1_score, _ = precision_recall_fscore_support(\n",
    "    Y_test, predicted_labels, average='weighted', zero_division=1)\n",
    "\n",
    "print('Accuracy: ', \"%.2f\" % (acc*100))\n",
    "print('F1: ', \"%.2f\" % (f1_score*100))\n",
    "print(\"Precision: \", \"%.2f\" % (precision*100))"
   ]
  },
  {
   "cell_type": "code",
   "execution_count": null,
   "metadata": {
    "colab": {
     "base_uri": "https://localhost:8080/"
    },
    "id": "_LKcVnEkFz7T",
    "outputId": "ecb5bbff-09a9-4c48-ec58-ebd694fced8c"
   },
   "outputs": [
    {
     "name": "stdout",
     "output_type": "stream",
     "text": [
      "Test loss: 0.7994\n",
      "Test accuracy: 0.5552\n"
     ]
    }
   ],
   "source": [
    "# Evaluate the model on the test set\n",
    "test_loss, test_accuracy = model.evaluate(X_test, Y_test, verbose=0)\n",
    "print(f'Test loss: {test_loss:.4f}')\n",
    "print(f'Test accuracy: {test_accuracy:.4f}')"
   ]
  },
  {
   "cell_type": "code",
   "execution_count": null,
   "metadata": {
    "id": "QfGSZC0RJMkl"
   },
   "outputs": [],
   "source": []
  },
  {
   "cell_type": "markdown",
   "metadata": {
    "id": "rpVOk-Y36cUQ"
   },
   "source": [
    "# Random forest"
   ]
  },
  {
   "cell_type": "code",
   "execution_count": null,
   "metadata": {
    "id": "DfPh34Dj6e9m"
   },
   "outputs": [],
   "source": [
    "from sklearn.ensemble import RandomForestClassifier # for classification"
   ]
  },
  {
   "cell_type": "code",
   "execution_count": null,
   "metadata": {
    "id": "gH0-kNng7KGu"
   },
   "outputs": [],
   "source": [
    "rf = RandomForestClassifier(n_estimators=100)"
   ]
  },
  {
   "cell_type": "code",
   "execution_count": null,
   "metadata": {
    "id": "PKlS9p2f7NR4"
   },
   "outputs": [],
   "source": [
    "# Split the data into inputs and outputs\n",
    "X = df.iloc[:, :16].values\n",
    "Y = df.iloc[:, 16:].values"
   ]
  },
  {
   "cell_type": "code",
   "execution_count": null,
   "metadata": {
    "id": "uDdRyCwN7ihN"
   },
   "outputs": [],
   "source": [
    "# Split the data into train, validation, and test sets\n",
    "X_train, X_test, Y_train, Y_test = train_test_split(X, Y, test_size=0.2, random_state=42)\n",
    "X_train, X_val, Y_train, Y_val = train_test_split(X_train, Y_train, test_size=0.2, random_state=42)"
   ]
  },
  {
   "cell_type": "code",
   "execution_count": null,
   "metadata": {
    "colab": {
     "base_uri": "https://localhost:8080/"
    },
    "id": "R5TfkZZN8frF",
    "outputId": "f76287a3-8216-4d60-81c3-bf73916ae4f6"
   },
   "outputs": [
    {
     "data": {
      "text/plain": [
       "array([[1],\n",
       "       [1],\n",
       "       [0],\n",
       "       [1],\n",
       "       [0],\n",
       "       [0],\n",
       "       [0],\n",
       "       [0],\n",
       "       [1],\n",
       "       [1]])"
      ]
     },
     "execution_count": 33,
     "metadata": {},
     "output_type": "execute_result"
    }
   ],
   "source": [
    "Y_train[:10]"
   ]
  },
  {
   "cell_type": "code",
   "execution_count": null,
   "metadata": {
    "colab": {
     "base_uri": "https://localhost:8080/"
    },
    "id": "FbKvVEL77-yK",
    "outputId": "a49f3dcf-9496-433a-e425-3ea18b8499d8"
   },
   "outputs": [
    {
     "name": "stderr",
     "output_type": "stream",
     "text": [
      "<ipython-input-34-a728c05dbdf0>:1: DataConversionWarning: A column-vector y was passed when a 1d array was expected. Please change the shape of y to (n_samples,), for example using ravel().\n",
      "  rf.fit(X_train, Y_train)\n"
     ]
    }
   ],
   "source": [
    "rf.fit(X_train, Y_train)\n",
    "val_score = rf.score(X_val, Y_val)"
   ]
  },
  {
   "cell_type": "code",
   "execution_count": null,
   "metadata": {
    "colab": {
     "base_uri": "https://localhost:8080/"
    },
    "id": "oVnaNbBY8Avk",
    "outputId": "9d4d8a6d-b92b-4e80-deb0-851d13e22d2c"
   },
   "outputs": [
    {
     "data": {
      "text/plain": [
       "0.9994462778799087"
      ]
     },
     "execution_count": 38,
     "metadata": {},
     "output_type": "execute_result"
    }
   ],
   "source": [
    "y_pred = rf.predict(X_test)\n",
    "test_score = rf.score(X_test, Y_test)\n",
    "test_score"
   ]
  },
  {
   "cell_type": "code",
   "execution_count": null,
   "metadata": {
    "colab": {
     "base_uri": "https://localhost:8080/"
    },
    "id": "XEmb-l9lI06b",
    "outputId": "0625814e-47e5-4a95-d035-eba5662381fe"
   },
   "outputs": [
    {
     "name": "stdout",
     "output_type": "stream",
     "text": [
      "Accuracy:  99.94\n",
      "F1:  99.94\n",
      "Precision:  99.94\n"
     ]
    }
   ],
   "source": [
    "acc = accuracy_score(Y_test, y_pred)\n",
    "f1 = f1_score(Y_test, y_pred, average= 'weighted')\n",
    "precision = precision_score(Y_test, y_pred, average='weighted')\n",
    "\n",
    "print('Accuracy: ', \"%.2f\" % (acc*100))\n",
    "print('F1: ', \"%.2f\" % (f1*100))\n",
    "print(\"Precision: \", \"%.2f\" % (precision*100))"
   ]
  },
  {
   "cell_type": "code",
   "execution_count": null,
   "metadata": {
    "colab": {
     "base_uri": "https://localhost:8080/"
    },
    "id": "cAbX6kyd86W1",
    "outputId": "a6a6aef8-bedb-4416-fd60-9fc037b2ce45"
   },
   "outputs": [
    {
     "name": "stdout",
     "output_type": "stream",
     "text": [
      "Accuracy: 0.9994684267647124\n"
     ]
    }
   ],
   "source": [
    "from sklearn.metrics import accuracy_score\n",
    "accuracy = accuracy_score(Y_test, y_pred)\n",
    "print(\"Accuracy:\", accuracy)"
   ]
  },
  {
   "cell_type": "code",
   "execution_count": null,
   "metadata": {
    "id": "F8aBRZwI9oqc"
   },
   "outputs": [],
   "source": [
    "import xgboost as xgb"
   ]
  },
  {
   "cell_type": "code",
   "execution_count": null,
   "metadata": {
    "colab": {
     "base_uri": "https://localhost:8080/"
    },
    "id": "XWF_MtNeB2Zz",
    "outputId": "1a037916-bd08-4715-fc56-3f90749b510d"
   },
   "outputs": [
    {
     "name": "stdout",
     "output_type": "stream",
     "text": [
      "Accuracy:  99.95\n",
      "F1:  99.95\n",
      "Precision:  99.95\n"
     ]
    }
   ],
   "source": [
    "xgb_clf = xgb.XGBClassifier(objective='binary:logistic', n_estimators=100, max_depth=5, learning_rate=0.1)\n",
    "\n",
    "# Train the model on the training set\n",
    "xgb_clf.fit(X_train, Y_train)\n",
    "\n",
    "# Make predictions on the testing set\n",
    "y_pred = xgb_clf.predict(X_test)\n",
    "acc = accuracy_score(Y_test, y_pred)\n",
    "f1 = f1_score(Y_test, y_pred, average= 'weighted')\n",
    "precision = precision_score(Y_test, y_pred, average='weighted')\n",
    "\n",
    "print('Accuracy: ', \"%.2f\" % (acc*100))\n",
    "print('F1: ', \"%.2f\" % (f1*100))\n",
    "print(\"Precision: \", \"%.2f\" % (precision*100))"
   ]
  },
  {
   "cell_type": "code",
   "execution_count": null,
   "metadata": {
    "colab": {
     "base_uri": "https://localhost:8080/",
     "height": 487
    },
    "id": "iN7cFWVyFjmc",
    "outputId": "ead07168-613e-4d74-f0c1-80536d2b1a94"
   },
   "outputs": [
    {
     "data": {
      "image/png": "[encoded data removed]",
      "text/plain": [
       "<Figure size 1000x500 with 1 Axes>"
      ]
     },
     "metadata": {},
     "output_type": "display_data"
    }
   ],
   "source": [
    "import matplotlib.pyplot as plt\n",
    "\n",
    "# Data\n",
    "data = {'DDoS': 128027, 'BENIGN': 97718}\n",
    "\n",
    "# Creating plot\n",
    "fig = plt.figure(figsize=(10, 5))\n",
    "plt.bar(data.keys(), data.values(), color='blue')\n",
    "\n",
    "# Add titles and labels\n",
    "plt.title(\"Bar Graph for Friday-WorkingHours-Afternoon-DDos.pcap_ISCX.csv\")\n",
    "plt.xlabel(\"Traffic Type\")\n",
    "plt.ylabel(\"Number of Packets\")\n",
    "\n",
    "# Display plot\n",
    "plt.show()\n"
   ]
  },
  {
   "cell_type": "code",
   "execution_count": null,
   "metadata": {
    "colab": {
     "base_uri": "https://localhost:8080/",
     "height": 686
    },
    "id": "3QDCcQYp6wCE",
    "outputId": "34cad6bd-926e-4e36-9046-700276c02ecb"
   },
   "outputs": [
    {
     "data": {
      "image/png": "[encoded data removed]",
      "text/plain": [
       "<Figure size 1500x600 with 1 Axes>"
      ]
     },
     "metadata": {},
     "output_type": "display_data"
    }
   ],
   "source": [
    "import matplotlib.pyplot as plt\n",
    "\n",
    "# Data\n",
    "data = {'BENIGN': 1454613, 'DoS Hulk': 231073, 'PortScan': 158930, 'DDoS': 128027, 'DoS GoldenEye': 10293, 'FTP-Patator': 7938, 'SSH-Patator': 5897, 'DoS slowloris': 5796, 'DoS Slowhttptest': 5499, 'Bot': 1966, 'Web Attack   Brute Force': 1507, 'Web Attack   XSS': 652, 'Web Attack   Sql Injection': 21, 'Heartbleed': 11}\n",
    "\n",
    "# Creating plot\n",
    "fig = plt.figure(figsize=(15, 6))\n",
    "plt.bar(data.keys(), data.values(), color='purple')\n",
    "\n",
    "# Add titles and labels\n",
    "plt.title(\"Bar Graph for Network Traffic Types\")\n",
    "plt.xlabel(\"Traffic Type\")\n",
    "plt.ylabel(\"Number of Packets\")\n",
    "\n",
    "# Rotate x-axis labels for better readability\n",
    "plt.xticks(rotation=45, ha='right')\n",
    "\n",
    "# Display plot\n",
    "plt.show()"
   ]
  },
  {
   "cell_type": "code",
   "execution_count": null,
   "metadata": {
    "colab": {
     "base_uri": "https://localhost:8080/",
     "height": 487
    },
    "id": "douqaBl88LC0",
    "outputId": "04fa0f09-c0ca-47b7-d1d1-bee63a9063fa"
   },
   "outputs": [
    {
     "data": {
      "image/png": "[encoded data removed]",
      "text/plain": [
       "<Figure size 1000x500 with 1 Axes>"
      ]
     },
     "metadata": {},
     "output_type": "display_data"
    }
   ],
   "source": [
    "import matplotlib.pyplot as plt\n",
    "\n",
    "# Data\n",
    "data = {'SVM': 97.54, 'RNN': 89.1, 'Random Forest': 99.947, 'XGBoost': 99.95}\n",
    "\n",
    "# Creating plot\n",
    "fig = plt.figure(figsize=(10, 5))\n",
    "plt.bar(data.keys(), data.values(), color='blue')\n",
    "\n",
    "# Add titles and labels\n",
    "plt.title(\"Bar Graph for Friday-WorkingHours-Afternoon-DDos.pcap_ISCX.csv\")\n",
    "plt.xlabel(\"Algorithm\")\n",
    "plt.ylabel(\"Accuracy score\")\n",
    "\n",
    "# Display plot\n",
    "plt.show()\n"
   ]
  },
  {
   "cell_type": "code",
   "execution_count": null,
   "metadata": {
    "id": "G-e6Q7X06GWd"
   },
   "outputs": [],
   "source": []
  }
 ],
 "metadata": {
  "accelerator": "GPU",
  "colab": {
   "provenance": []
  },
  "gpuClass": "standard",
  "kernelspec": {
   "display_name": "Python 3",
   "language": "python",
   "name": "python3"
  },
  "language_info": {
   "codemirror_mode": {
    "name": "ipython",
    "version": 3
   },
   "file_extension": ".py",
   "mimetype": "text/x-python",
   "name": "python",
   "nbconvert_exporter": "python",
   "pygments_lexer": "ipython3",
   "version": "3.8.8"
  }
 },
 "nbformat": 4,
 "nbformat_minor": 1
}
